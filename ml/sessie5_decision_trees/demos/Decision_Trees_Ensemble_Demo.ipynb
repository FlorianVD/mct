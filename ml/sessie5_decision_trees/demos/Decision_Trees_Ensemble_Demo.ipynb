{
 "cells": [
  {
   "cell_type": "code",
   "execution_count": 1,
   "metadata": {},
   "outputs": [],
   "source": [
    "%matplotlib inline\n",
    "import numpy as np\n",
    "import pandas as pd\n",
    "import matplotlib.pyplot as plt\n",
    "\n",
    "from sklearn import linear_model\n",
    "\n",
    "from sklearn.linear_model import Ridge\n",
    "from sklearn.linear_model import Lasso\n",
    "\n",
    "from sklearn import linear_model, datasets\n",
    "from sklearn import model_selection\n",
    "from sklearn.ensemble import BaggingClassifier\n",
    "from sklearn.tree import DecisionTreeClassifier\n",
    "from sklearn.ensemble import AdaBoostClassifier\n",
    "from sklearn.ensemble import GradientBoostingClassifier\n",
    "\n",
    "from sklearn.model_selection import train_test_split\n",
    "from sklearn.metrics import classification_report\n",
    "from sklearn import preprocessing\n",
    "\n",
    "from sklearn.metrics import confusion_matrix, accuracy_score\n",
    "from sklearn.linear_model import LogisticRegression\n",
    "from sklearn.ensemble import RandomForestClassifier\n",
    "from sklearn.ensemble import RandomForestRegressor\n",
    "import seaborn as sns\n"
   ]
  },
  {
   "cell_type": "markdown",
   "metadata": {},
   "source": [
    "## Classificatie"
   ]
  },
  {
   "cell_type": "code",
   "execution_count": 2,
   "metadata": {},
   "outputs": [
    {
     "data": {
      "text/html": [
       "<div>\n",
       "<style scoped>\n",
       "    .dataframe tbody tr th:only-of-type {\n",
       "        vertical-align: middle;\n",
       "    }\n",
       "\n",
       "    .dataframe tbody tr th {\n",
       "        vertical-align: top;\n",
       "    }\n",
       "\n",
       "    .dataframe thead th {\n",
       "        text-align: right;\n",
       "    }\n",
       "</style>\n",
       "<table border=\"1\" class=\"dataframe\">\n",
       "  <thead>\n",
       "    <tr style=\"text-align: right;\">\n",
       "      <th></th>\n",
       "      <th>Pregnancies</th>\n",
       "      <th>Glucose</th>\n",
       "      <th>BloodPressure</th>\n",
       "      <th>SkinThickness</th>\n",
       "      <th>Insulin</th>\n",
       "      <th>BMI</th>\n",
       "      <th>DiabetesPedigreeFunction</th>\n",
       "      <th>Age</th>\n",
       "      <th>Outcome</th>\n",
       "    </tr>\n",
       "  </thead>\n",
       "  <tbody>\n",
       "    <tr>\n",
       "      <th>3</th>\n",
       "      <td>1</td>\n",
       "      <td>89</td>\n",
       "      <td>66</td>\n",
       "      <td>23</td>\n",
       "      <td>94</td>\n",
       "      <td>28.1</td>\n",
       "      <td>0.167</td>\n",
       "      <td>21</td>\n",
       "      <td>0</td>\n",
       "    </tr>\n",
       "    <tr>\n",
       "      <th>4</th>\n",
       "      <td>0</td>\n",
       "      <td>137</td>\n",
       "      <td>40</td>\n",
       "      <td>35</td>\n",
       "      <td>168</td>\n",
       "      <td>43.1</td>\n",
       "      <td>2.288</td>\n",
       "      <td>33</td>\n",
       "      <td>1</td>\n",
       "    </tr>\n",
       "    <tr>\n",
       "      <th>6</th>\n",
       "      <td>3</td>\n",
       "      <td>78</td>\n",
       "      <td>50</td>\n",
       "      <td>32</td>\n",
       "      <td>88</td>\n",
       "      <td>31.0</td>\n",
       "      <td>0.248</td>\n",
       "      <td>26</td>\n",
       "      <td>1</td>\n",
       "    </tr>\n",
       "    <tr>\n",
       "      <th>8</th>\n",
       "      <td>2</td>\n",
       "      <td>197</td>\n",
       "      <td>70</td>\n",
       "      <td>45</td>\n",
       "      <td>543</td>\n",
       "      <td>30.5</td>\n",
       "      <td>0.158</td>\n",
       "      <td>53</td>\n",
       "      <td>1</td>\n",
       "    </tr>\n",
       "    <tr>\n",
       "      <th>13</th>\n",
       "      <td>1</td>\n",
       "      <td>189</td>\n",
       "      <td>60</td>\n",
       "      <td>23</td>\n",
       "      <td>846</td>\n",
       "      <td>30.1</td>\n",
       "      <td>0.398</td>\n",
       "      <td>59</td>\n",
       "      <td>1</td>\n",
       "    </tr>\n",
       "  </tbody>\n",
       "</table>\n",
       "</div>"
      ],
      "text/plain": [
       "    Pregnancies  Glucose  BloodPressure  SkinThickness  Insulin   BMI  \\\n",
       "3             1       89             66             23       94  28.1   \n",
       "4             0      137             40             35      168  43.1   \n",
       "6             3       78             50             32       88  31.0   \n",
       "8             2      197             70             45      543  30.5   \n",
       "13            1      189             60             23      846  30.1   \n",
       "\n",
       "    DiabetesPedigreeFunction  Age  Outcome  \n",
       "3                      0.167   21        0  \n",
       "4                      2.288   33        1  \n",
       "6                      0.248   26        1  \n",
       "8                      0.158   53        1  \n",
       "13                     0.398   59        1  "
      ]
     },
     "execution_count": 2,
     "metadata": {},
     "output_type": "execute_result"
    }
   ],
   "source": [
    "#Inlezen van de dataset\n",
    "dataset = pd.read_csv('diabetes.csv')\n",
    "dataset= dataset[dataset[\"Insulin\"] > 0]\n",
    "dataset.head()"
   ]
  },
  {
   "cell_type": "code",
   "execution_count": 3,
   "metadata": {},
   "outputs": [
    {
     "name": "stdout",
     "output_type": "stream",
     "text": [
      "(119, 8)\n"
     ]
    }
   ],
   "source": [
    "features = list(dataset.columns[:8])\n",
    "X = dataset[features].values \n",
    "y= dataset['Outcome'].values\n",
    "\n",
    "X_train, X_test, y_train, y_test = train_test_split(X, y, test_size = 0.30, random_state =0)\n",
    "print(X_test.shape)"
   ]
  },
  {
   "cell_type": "code",
   "execution_count": 4,
   "metadata": {},
   "outputs": [
    {
     "name": "stdout",
     "output_type": "stream",
     "text": [
      "[0.08290801 0.23188339 0.07733118 0.08973489 0.15615375 0.11310049\n",
      " 0.10610878 0.14277952]\n"
     ]
    }
   ],
   "source": [
    "# Random Forest Classifier\n",
    "number_of_trees = 1000\n",
    "max_number_of_features = 2\n",
    "\n",
    "RFCmodel = RandomForestClassifier(n_estimators=number_of_trees, max_features=max_number_of_features)\n",
    "\n",
    "\n",
    "RFCmodel.fit(X_train,y_train)\n",
    "\n",
    "print(RFCmodel.feature_importances_)"
   ]
  },
  {
   "cell_type": "code",
   "execution_count": 5,
   "metadata": {},
   "outputs": [
    {
     "name": "stdout",
     "output_type": "stream",
     "text": [
      "              precision    recall  f1-score   support\n",
      "\n",
      "           0       0.81      0.93      0.87        76\n",
      "           1       0.84      0.60      0.70        43\n",
      "\n",
      "   micro avg       0.82      0.82      0.82       119\n",
      "   macro avg       0.82      0.77      0.78       119\n",
      "weighted avg       0.82      0.82      0.81       119\n",
      "\n",
      "[[71  5]\n",
      " [17 26]]\n",
      "81.5126050420168\n"
     ]
    }
   ],
   "source": [
    "# Test Random Forest Classifier\n",
    "\n",
    "y_pred = RFCmodel.predict(X_test)\n",
    "\n",
    "print(classification_report(y_test, y_pred))\n",
    "\n",
    "cf = confusion_matrix(y_test, y_pred)\n",
    "print(cf)\n",
    "print(accuracy_score(y_test, y_pred) * 100) "
   ]
  },
  {
   "cell_type": "code",
   "execution_count": 27,
   "metadata": {},
   "outputs": [
    {
     "name": "stdout",
     "output_type": "stream",
     "text": [
      "              precision    recall  f1-score   support\n",
      "\n",
      "           0       0.81      0.96      0.88        76\n",
      "           1       0.90      0.60      0.72        43\n",
      "\n",
      "   micro avg       0.83      0.83      0.83       119\n",
      "   macro avg       0.85      0.78      0.80       119\n",
      "weighted avg       0.84      0.83      0.82       119\n",
      "\n",
      "[[73  3]\n",
      " [17 26]]\n",
      "83.19327731092437\n"
     ]
    }
   ],
   "source": [
    "# Bagging met logistic regression\n",
    "\n",
    "number_of_estimators = 100\n",
    "complexity = 10\n",
    "cart = LogisticRegression(C=complexity,solver='liblinear')\n",
    "\n",
    "\n",
    "lregbagging = BaggingClassifier(base_estimator=cart, n_estimators=number_of_estimators)\n",
    "\n",
    "lregbagging.fit(X_train,y_train)\n",
    "\n",
    "\n",
    "y_pred = lregbagging.predict(X_test)\n",
    "\n",
    "print(classification_report(y_test, y_pred))\n",
    "\n",
    "cf = confusion_matrix(y_test, y_pred)\n",
    "print(cf)\n",
    "print(accuracy_score(y_test, y_pred) * 100) \n"
   ]
  },
  {
   "cell_type": "code",
   "execution_count": 45,
   "metadata": {},
   "outputs": [
    {
     "name": "stdout",
     "output_type": "stream",
     "text": [
      "              precision    recall  f1-score   support\n",
      "\n",
      "           0       0.82      0.93      0.87        76\n",
      "           1       0.84      0.63      0.72        43\n",
      "\n",
      "   micro avg       0.82      0.82      0.82       119\n",
      "   macro avg       0.83      0.78      0.80       119\n",
      "weighted avg       0.83      0.82      0.82       119\n",
      "\n",
      "[[71  5]\n",
      " [16 27]]\n",
      "82.35294117647058\n"
     ]
    }
   ],
   "source": [
    "# Adaboost\n",
    "\n",
    "clf_adaboost = AdaBoostClassifier(n_estimators=150,learning_rate=0.9)\n",
    "clf_adaboost.fit(X_train,y_train)\n",
    "\n",
    "y_pred = clf_adaboost.predict(X_test)\n",
    "\n",
    "print(classification_report(y_test, y_pred))\n",
    "\n",
    "cf = confusion_matrix(y_test, y_pred)\n",
    "print(cf)\n",
    "print(accuracy_score(y_test, y_pred) * 100) \n"
   ]
  },
  {
   "cell_type": "code",
   "execution_count": 48,
   "metadata": {},
   "outputs": [
    {
     "name": "stdout",
     "output_type": "stream",
     "text": [
      "              precision    recall  f1-score   support\n",
      "\n",
      "           0       0.81      0.97      0.89        76\n",
      "           1       0.93      0.60      0.73        43\n",
      "\n",
      "   micro avg       0.84      0.84      0.84       119\n",
      "   macro avg       0.87      0.79      0.81       119\n",
      "weighted avg       0.85      0.84      0.83       119\n",
      "\n",
      "[[74  2]\n",
      " [17 26]]\n",
      "84.03361344537815\n"
     ]
    }
   ],
   "source": [
    "# Adaboost met logistic regression classifier\n",
    "\n",
    "cart = LogisticRegression(C=complexity,solver='liblinear')\n",
    "logreg_adaboost = AdaBoostClassifier(base_estimator=cart,n_estimators=150,learning_rate=0.9) \n",
    "logreg_adaboost.fit(X_train,y_train)\n",
    "\n",
    "y_pred = logreg_adaboost.predict(X_test)\n",
    "\n",
    "print(classification_report(y_test, y_pred))\n",
    "\n",
    "cf = confusion_matrix(y_test, y_pred)\n",
    "print(cf)\n",
    "print(accuracy_score(y_test, y_pred) * 100) \n",
    "\n"
   ]
  },
  {
   "cell_type": "code",
   "execution_count": 62,
   "metadata": {},
   "outputs": [
    {
     "name": "stdout",
     "output_type": "stream",
     "text": [
      "              precision    recall  f1-score   support\n",
      "\n",
      "           0       0.80      0.95      0.87        76\n",
      "           1       0.86      0.58      0.69        43\n",
      "\n",
      "   micro avg       0.82      0.82      0.82       119\n",
      "   macro avg       0.83      0.76      0.78       119\n",
      "weighted avg       0.82      0.82      0.80       119\n",
      "\n",
      "[[72  4]\n",
      " [18 25]]\n",
      "81.5126050420168\n"
     ]
    }
   ],
   "source": [
    "# Gradient boosting\n",
    "\n",
    "clf_gradientboost = GradientBoostingClassifier(n_estimators=150,learning_rate=0.8)\n",
    "\n",
    "clf_gradientboost.fit(X_train,y_train)\n",
    "\n",
    "\n",
    "y_pred = clf_gradientboost.predict(X_test)\n",
    "\n",
    "print(classification_report(y_test, y_pred))\n",
    "\n",
    "cf = confusion_matrix(y_test, y_pred)\n",
    "print(cf)\n",
    "print(accuracy_score(y_test, y_pred) * 100) \n",
    "\n"
   ]
  },
  {
   "cell_type": "code",
   "execution_count": 67,
   "metadata": {},
   "outputs": [
    {
     "name": "stdout",
     "output_type": "stream",
     "text": [
      "              precision    recall  f1-score   support\n",
      "\n",
      "           0       0.82      0.92      0.87        76\n",
      "           1       0.82      0.65      0.73        43\n",
      "\n",
      "   micro avg       0.82      0.82      0.82       119\n",
      "   macro avg       0.82      0.79      0.80       119\n",
      "weighted avg       0.82      0.82      0.82       119\n",
      "\n",
      "[[70  6]\n",
      " [15 28]]\n",
      "82.35294117647058\n"
     ]
    }
   ],
   "source": [
    "#### Classificatie met XGBoost\n",
    "\n",
    "from xgboost import XGBClassifier\n",
    "\n",
    "clf_xgb = XGBClassifier(n_estimators=150)\n",
    "clf_xgb.fit(X_train,y_train)\n",
    "\n",
    "y_pred = clf_xgb.predict(X_test)\n",
    "\n",
    "print(classification_report(y_test, y_pred))\n",
    "\n",
    "cf = confusion_matrix(y_test, y_pred)\n",
    "print(cf)\n",
    "print(accuracy_score(y_test, y_pred) * 100) \n",
    "\n"
   ]
  },
  {
   "cell_type": "markdown",
   "metadata": {},
   "source": [
    "## Regressie"
   ]
  },
  {
   "cell_type": "markdown",
   "metadata": {},
   "source": [
    "### Split criterium"
   ]
  },
  {
   "cell_type": "code",
   "execution_count": 3,
   "metadata": {},
   "outputs": [
    {
     "data": {
      "text/html": [
       "<div>\n",
       "<style scoped>\n",
       "    .dataframe tbody tr th:only-of-type {\n",
       "        vertical-align: middle;\n",
       "    }\n",
       "\n",
       "    .dataframe tbody tr th {\n",
       "        vertical-align: top;\n",
       "    }\n",
       "\n",
       "    .dataframe thead th {\n",
       "        text-align: right;\n",
       "    }\n",
       "</style>\n",
       "<table border=\"1\" class=\"dataframe\">\n",
       "  <thead>\n",
       "    <tr style=\"text-align: right;\">\n",
       "      <th></th>\n",
       "      <th>Day</th>\n",
       "      <th>Outlook</th>\n",
       "      <th>Temp</th>\n",
       "      <th>Humidity</th>\n",
       "      <th>Wind</th>\n",
       "      <th>Players</th>\n",
       "    </tr>\n",
       "  </thead>\n",
       "  <tbody>\n",
       "    <tr>\n",
       "      <th>0</th>\n",
       "      <td>1</td>\n",
       "      <td>Sunny</td>\n",
       "      <td>Hot</td>\n",
       "      <td>High</td>\n",
       "      <td>Weak</td>\n",
       "      <td>25</td>\n",
       "    </tr>\n",
       "    <tr>\n",
       "      <th>1</th>\n",
       "      <td>2</td>\n",
       "      <td>Sunny</td>\n",
       "      <td>Hot</td>\n",
       "      <td>High</td>\n",
       "      <td>Strong</td>\n",
       "      <td>30</td>\n",
       "    </tr>\n",
       "    <tr>\n",
       "      <th>2</th>\n",
       "      <td>3</td>\n",
       "      <td>Overcast</td>\n",
       "      <td>Hot</td>\n",
       "      <td>High</td>\n",
       "      <td>Weak</td>\n",
       "      <td>46</td>\n",
       "    </tr>\n",
       "    <tr>\n",
       "      <th>3</th>\n",
       "      <td>4</td>\n",
       "      <td>Rain</td>\n",
       "      <td>Mild</td>\n",
       "      <td>High</td>\n",
       "      <td>Weak</td>\n",
       "      <td>45</td>\n",
       "    </tr>\n",
       "    <tr>\n",
       "      <th>4</th>\n",
       "      <td>5</td>\n",
       "      <td>Rain</td>\n",
       "      <td>Cool</td>\n",
       "      <td>Normal</td>\n",
       "      <td>Weak</td>\n",
       "      <td>52</td>\n",
       "    </tr>\n",
       "    <tr>\n",
       "      <th>5</th>\n",
       "      <td>6</td>\n",
       "      <td>Rain</td>\n",
       "      <td>Cool</td>\n",
       "      <td>Normal</td>\n",
       "      <td>Strong</td>\n",
       "      <td>23</td>\n",
       "    </tr>\n",
       "    <tr>\n",
       "      <th>6</th>\n",
       "      <td>7</td>\n",
       "      <td>Overcast</td>\n",
       "      <td>Cool</td>\n",
       "      <td>Normal</td>\n",
       "      <td>Strong</td>\n",
       "      <td>43</td>\n",
       "    </tr>\n",
       "    <tr>\n",
       "      <th>7</th>\n",
       "      <td>8</td>\n",
       "      <td>Sunny</td>\n",
       "      <td>Mild</td>\n",
       "      <td>High</td>\n",
       "      <td>Weak</td>\n",
       "      <td>35</td>\n",
       "    </tr>\n",
       "    <tr>\n",
       "      <th>8</th>\n",
       "      <td>9</td>\n",
       "      <td>Sunny</td>\n",
       "      <td>Cool</td>\n",
       "      <td>Normal</td>\n",
       "      <td>Weak</td>\n",
       "      <td>38</td>\n",
       "    </tr>\n",
       "    <tr>\n",
       "      <th>9</th>\n",
       "      <td>10</td>\n",
       "      <td>Rain</td>\n",
       "      <td>Mild</td>\n",
       "      <td>Normal</td>\n",
       "      <td>Weak</td>\n",
       "      <td>46</td>\n",
       "    </tr>\n",
       "    <tr>\n",
       "      <th>10</th>\n",
       "      <td>11</td>\n",
       "      <td>Sunny</td>\n",
       "      <td>Mild</td>\n",
       "      <td>Normal</td>\n",
       "      <td>Strong</td>\n",
       "      <td>48</td>\n",
       "    </tr>\n",
       "    <tr>\n",
       "      <th>11</th>\n",
       "      <td>12</td>\n",
       "      <td>Overcast</td>\n",
       "      <td>Mild</td>\n",
       "      <td>High</td>\n",
       "      <td>Strong</td>\n",
       "      <td>52</td>\n",
       "    </tr>\n",
       "    <tr>\n",
       "      <th>12</th>\n",
       "      <td>13</td>\n",
       "      <td>Overcast</td>\n",
       "      <td>Hot</td>\n",
       "      <td>Normal</td>\n",
       "      <td>Weak</td>\n",
       "      <td>44</td>\n",
       "    </tr>\n",
       "    <tr>\n",
       "      <th>13</th>\n",
       "      <td>14</td>\n",
       "      <td>Rain</td>\n",
       "      <td>Mild</td>\n",
       "      <td>High</td>\n",
       "      <td>Strong</td>\n",
       "      <td>30</td>\n",
       "    </tr>\n",
       "  </tbody>\n",
       "</table>\n",
       "</div>"
      ],
      "text/plain": [
       "    Day   Outlook  Temp Humidity    Wind  Players\n",
       "0     1     Sunny   Hot     High    Weak       25\n",
       "1     2     Sunny   Hot     High  Strong       30\n",
       "2     3  Overcast   Hot     High    Weak       46\n",
       "3     4      Rain  Mild     High    Weak       45\n",
       "4     5      Rain  Cool   Normal    Weak       52\n",
       "5     6      Rain  Cool   Normal  Strong       23\n",
       "6     7  Overcast  Cool   Normal  Strong       43\n",
       "7     8     Sunny  Mild     High    Weak       35\n",
       "8     9     Sunny  Cool   Normal    Weak       38\n",
       "9    10      Rain  Mild   Normal    Weak       46\n",
       "10   11     Sunny  Mild   Normal  Strong       48\n",
       "11   12  Overcast  Mild     High  Strong       52\n",
       "12   13  Overcast   Hot   Normal    Weak       44\n",
       "13   14      Rain  Mild     High  Strong       30"
      ]
     },
     "execution_count": 3,
     "metadata": {},
     "output_type": "execute_result"
    }
   ],
   "source": [
    "dataset = pd.read_csv('Golf.csv')\n",
    "dataset.head(14)"
   ]
  },
  {
   "cell_type": "code",
   "execution_count": 13,
   "metadata": {},
   "outputs": [
    {
     "name": "stdout",
     "output_type": "stream",
     "text": [
      "De totale variantie bedraagt: 93.56593406593407\n",
      "Sunny: variantie: 75.69999999999999  aantal: 5\n",
      "Overcast: variantie: 16.25  aantal: 4\n",
      "Rain: variantie: 75.69999999999999  aantal: 5\n",
      "Gewogen variantie na de split: 84.42857142857143\n",
      "weak wind: variantie: 70.83928571428571  aantal: 8\n",
      "strong wind: variantie: 134.66666666666669  aantal: 6\n",
      "Gewogen variantie na de split: 98.1938775510204\n",
      "gemiddelde bij zonnig weer: 35.2\n",
      "gemiddelde bij bewolkt weer: 46.25\n",
      "gemiddelde bij regen: 39.2\n"
     ]
    }
   ],
   "source": [
    "# Splitsen volgens Outlook\n",
    "\n",
    "# Variantie van het aantal spelers voor splitsing\n",
    "\n",
    "var_tot = dataset['Players'].var()\n",
    "print('De totale variantie bedraagt:', var_tot)\n",
    "\n",
    "# Splitsen volgens outlook (Sunny, Overcast en Rain)\n",
    "var_sunny = dataset[dataset['Outlook']=='Sunny'].Players.var()\n",
    "nr_sunny = dataset[dataset['Outlook']=='Sunny'].Players.count()\n",
    "print('Sunny:','variantie:',var_sunny,' aantal:',nr_sunny)\n",
    "\n",
    "var_overcast = dataset[dataset['Outlook']=='Overcast'].Players.var()\n",
    "nr_overcast = dataset[dataset['Outlook']=='Overcast'].Players.count()\n",
    "print('Overcast:','variantie:',var_overcast,' aantal:',nr_overcast)\n",
    "\n",
    "var_rain = dataset[dataset['Outlook']=='Rain'].Players.var()\n",
    "nr_rain = dataset[dataset['Outlook']=='Rain'].Players.count()\n",
    "print('Rain:','variantie:',var_sunny,' aantal:',nr_sunny)\n",
    "\n",
    "var_comb = ((nr_sunny*var_sunny) + (nr_overcast*var_overcast) + (nr_rain*var_rain))/dataset['Players'].count()\n",
    "\n",
    "print('Gewogen variantie na de split:', var_comb)\n",
    "\n",
    "# Splitsen volgens wind\n",
    "\n",
    "var_weak = dataset[dataset['Wind']=='Weak'].Players.var()\n",
    "nr_weak = dataset[dataset['Wind']=='Weak'].Players.count()\n",
    "print('weak wind:','variantie:',var_weak,' aantal:',nr_weak)\n",
    "\n",
    "var_strong = dataset[dataset['Wind']=='Strong'].Players.var()\n",
    "nr_strong = dataset[dataset['Wind']=='Strong'].Players.count()\n",
    "print('strong wind:','variantie:',var_strong,' aantal:',nr_strong)\n",
    "\n",
    "var_comb = ((nr_weak*var_weak) + (nr_strong*var_strong))/dataset['Players'].count()\n",
    "print('Gewogen variantie na de split:', var_comb)\n",
    "\n",
    "# Predictie op basis van enkel criterium outlook\n",
    "\n",
    "print('gemiddelde bij zonnig weer:', dataset[dataset['Outlook']=='Sunny'].Players.mean() )\n",
    "print('gemiddelde bij bewolkt weer:', dataset[dataset['Outlook']=='Overcast'].Players.mean() )\n",
    "print('gemiddelde bij regen:', dataset[dataset['Outlook']=='Rain'].Players.mean() )"
   ]
  },
  {
   "cell_type": "markdown",
   "metadata": {},
   "source": [
    "### Regressie via decision trees op de Bostong housing dataset"
   ]
  },
  {
   "cell_type": "code",
   "execution_count": 15,
   "metadata": {},
   "outputs": [],
   "source": [
    "dataset = pd.read_csv('boston_housing.csv')"
   ]
  },
  {
   "cell_type": "code",
   "execution_count": 16,
   "metadata": {},
   "outputs": [
    {
     "name": "stdout",
     "output_type": "stream",
     "text": [
      "['CRIM', 'ZN', 'INDUS', 'NOX', 'RM', 'AGE', 'DIS', 'RAD', 'TAX', 'PT', 'B', 'LSTAT']\n"
     ]
    }
   ],
   "source": [
    "dataset.drop('CHAS', axis=1, inplace=True)\n",
    "# Dataset opsplitsen in training en test set\n",
    "\n",
    "from scipy import stats\n",
    "dataset = dataset[(np.abs(stats.zscore(dataset)) < 3).all(axis=1)]\n",
    "dataset.describe()\n",
    "\n",
    "features = list(dataset.columns[:dataset.columns.size-1])\n",
    "print(features)\n",
    "X = dataset[features].values \n",
    "y= dataset['Price'].values\n",
    "\n",
    "# Opdelen in training en test set\n",
    "X_train, X_test, y_train, y_test = train_test_split(X, y, test_size=0.33, random_state=0)"
   ]
  },
  {
   "cell_type": "code",
   "execution_count": 17,
   "metadata": {},
   "outputs": [
    {
     "name": "stdout",
     "output_type": "stream",
     "text": [
      "dimensie van X_train_poly:  (295, 91)\n",
      "dimensie van X_test_poly:  (146, 91)\n",
      "R2 score op test set via L2:  0.8280172944539267\n",
      "R2 score op training set via L2:  0.896136969947186\n",
      "R2 score op test set via L1:  0.8592830757971259\n",
      "R2 score op training set via L1:  0.8761987185666626\n"
     ]
    },
    {
     "name": "stderr",
     "output_type": "stream",
     "text": [
      "/home/wouter/tensorflow/lib/python3.6/site-packages/sklearn/linear_model/coordinate_descent.py:492: ConvergenceWarning: Objective did not converge. You might want to increase the number of iterations. Fitting data with very small alpha may cause precision problems.\n",
      "  ConvergenceWarning)\n"
     ]
    }
   ],
   "source": [
    "from sklearn.preprocessing import PolynomialFeatures\n",
    "\n",
    "\n",
    "# Aanmaken van de hogere orde features\n",
    "graad = 2\n",
    "\n",
    "poly = PolynomialFeatures(graad)\n",
    "poly.fit(X_train)\n",
    "X_train_poly = poly.transform(X_train)\n",
    "X_test_poly = poly.transform(X_test)\n",
    "print('dimensie van X_train_poly: ',X_train_poly.shape)\n",
    "print('dimensie van X_test_poly: ',X_test_poly.shape)\n",
    "\n",
    "\n",
    "# met L2 regularisatie via Ridge regression\n",
    "lregmodel_poly = Ridge(alpha=5,tol=0.0001,fit_intercept=True)\n",
    "lregmodel_poly.fit(X_train_poly,y_train)\n",
    "\n",
    "print('R2 score op test set via L2: ',lregmodel_poly.score(X_test_poly,y_test))\n",
    "# R2 -score via L2 op de trainingset\n",
    "print('R2 score op training set via L2: ',lregmodel_poly.score(X_train_poly,y_train))\n",
    "\n",
    "\n",
    "\n",
    "# met L1 regularisatie via Lasso regression\n",
    "lregmodel_poly = Lasso(alpha=3,tol=0.0001,fit_intercept=True)\n",
    "lregmodel_poly.fit(X_train_poly,y_train)      \n",
    "  \n",
    "      \n",
    "print('R2 score op test set via L1: ',lregmodel_poly.score(X_test_poly,y_test))\n",
    "  \n",
    "# R2 -score via L1 op de trainingset\n",
    "print('R2 score op training set via L1: ',lregmodel_poly.score(X_train_poly,y_train)) "
   ]
  },
  {
   "cell_type": "code",
   "execution_count": 18,
   "metadata": {},
   "outputs": [
    {
     "data": {
      "text/plain": [
       "0.8974988236096475"
      ]
     },
     "execution_count": 18,
     "metadata": {},
     "output_type": "execute_result"
    }
   ],
   "source": [
    "# Random Forest Regressor\n",
    "\n",
    "RFR_model = RandomForestRegressor(n_estimators=150)\n",
    "RFR_model.fit(X_train_poly,y_train)\n",
    "\n",
    "RFR_model.score(X_test_poly,y_test)"
   ]
  },
  {
   "cell_type": "code",
   "execution_count": null,
   "metadata": {},
   "outputs": [],
   "source": []
  },
  {
   "cell_type": "code",
   "execution_count": null,
   "metadata": {},
   "outputs": [],
   "source": []
  }
 ],
 "metadata": {
  "kernelspec": {
   "display_name": "Python 3",
   "language": "python",
   "name": "python3"
  },
  "language_info": {
   "codemirror_mode": {
    "name": "ipython",
    "version": 3
   },
   "file_extension": ".py",
   "mimetype": "text/x-python",
   "name": "python",
   "nbconvert_exporter": "python",
   "pygments_lexer": "ipython3",
   "version": "3.7.5"
  }
 },
 "nbformat": 4,
 "nbformat_minor": 4
}
