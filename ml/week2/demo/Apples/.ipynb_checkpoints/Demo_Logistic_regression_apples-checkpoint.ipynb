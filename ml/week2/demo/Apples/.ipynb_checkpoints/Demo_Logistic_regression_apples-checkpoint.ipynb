{
 "cells": [
  {
   "cell_type": "code",
   "execution_count": null,
   "metadata": {},
   "outputs": [],
   "source": [
    "% matplotlib inline\n",
    "import numpy as np\n",
    "import pandas as pd\n",
    "import matplotlib.pyplot as plt\n",
    "from sklearn import linear_model, datasets\n",
    "from sklearn.preprocessing import PolynomialFeatures\n",
    "import seaborn as sns"
   ]
  },
  {
   "cell_type": "markdown",
   "metadata": {},
   "source": [
    "## Classificeer appels op basis van hun groenheid en rondheid\n",
    "### Lineair scheidbare data"
   ]
  },
  {
   "cell_type": "code",
   "execution_count": null,
   "metadata": {},
   "outputs": [],
   "source": [
    "# Importeer de dataset\n",
    "\n",
    "dataset = pd.read_csv('appels.csv')\n",
    "\n",
    "# Toon de eerste rijen van de dataset\n",
    "dataset.head()"
   ]
  },
  {
   "cell_type": "code",
   "execution_count": null,
   "metadata": {},
   "outputs": [],
   "source": [
    "# Splits op in features en targets\n",
    "# features: x1 = rondheid en x2 = groenheid\n",
    "\n",
    "features = list(dataset.columns[:dataset.columns.size-1])\n",
    "X = dataset[features].values \n",
    "y= dataset['appel'].values"
   ]
  },
  {
   "cell_type": "code",
   "execution_count": null,
   "metadata": {},
   "outputs": [],
   "source": [
    "# Plot een scatterplot met seaborn\n",
    "\n",
    "sns.set(font_scale = 2) # lettergrootte van de axis labels\n",
    "colors = [\"blue\", \"red\", \"greyish\", \"faded green\", \"dusty purple\"]\n",
    "sns.lmplot(x='rondheid',y='groenheid',data=dataset,fit_reg=False,hue='appel',palette =sns.xkcd_palette(colors),\n",
    "           scatter_kws={'s':500}, height=7, aspect=1.5)\n",
    "#sns.plt.ylim(0, 11)\n",
    "#sns.plt.xlim(0, 11)"
   ]
  },
  {
   "cell_type": "code",
   "execution_count": null,
   "metadata": {},
   "outputs": [],
   "source": [
    "# Train een logistic regression classifier\n",
    "\n",
    "logreg = linear_model.LogisticRegression(C=1e5) # C= Inverse of regularization strength;\n",
    "                                                # must be a positive float. Like in support vector machines,\n",
    "                                                # smaller values specify stronger regularization.\n",
    "logreg.fit(X, y)\n",
    "\n",
    "print('coefficiënten: ',logreg.coef_)\n",
    "print('intercept:',logreg.intercept_)"
   ]
  },
  {
   "cell_type": "code",
   "execution_count": null,
   "metadata": {},
   "outputs": [],
   "source": [
    "#voorspel de klasse van een rondheid=8 en een groenheid van 6\n",
    "\n",
    "print(logreg.predict(np.array([8,6]).reshape(1,-1)))\n",
    "\n",
    "print('kans op een appel/geen appel',logreg.predict_proba(np.array([8,6]).reshape(1,-1)))\n",
    "\n",
    "#voorspel de klasse van een rondheid=4 en een groenheid van 4\n",
    "\n",
    "print(logreg.predict(np.array([4,4]).reshape(1,-1)))\n",
    "print('kans op een appel/geen appel',logreg.predict_proba(np.array([4,4]).reshape(1,-1)))"
   ]
  },
  {
   "cell_type": "code",
   "execution_count": null,
   "metadata": {},
   "outputs": [],
   "source": [
    "# Visualiseer de decision boundary\n",
    "\n",
    "h = 0.01\n",
    "rond_min = X[:,0].min()-2\n",
    "rond_max = X[:,0].max()+2\n",
    "groen_min = X[:,1].min()-2\n",
    "groen_max = X[:,1].max()+2\n",
    "xx, yy = np.meshgrid(np.arange(rond_min, rond_max, h),np.arange(groen_min, groen_max, h))\n",
    "Z = logreg.predict(np.c_[xx.ravel(), yy.ravel()])\n",
    "Z = Z.reshape(xx.shape)\n",
    "sns.set(font_scale = 2)\n",
    "colors = [\"blue\", \"red\", \"greyish\", \"faded green\", \"dusty purple\"]\n",
    "sns.lmplot(x='rondheid',y='groenheid',data=dataset,fit_reg=False,hue='appel',palette =sns.xkcd_palette(colors),scatter_kws={'s':200}, height=8, aspect=1.5)\n",
    "plt.ylim(0, 11)\n",
    "plt.xlim(0, 11)\n",
    "plt.contour(xx, yy, Z, colors='green')"
   ]
  },
  {
   "cell_type": "markdown",
   "metadata": {},
   "source": [
    "### Niet-lineair scheidbare data"
   ]
  },
  {
   "cell_type": "code",
   "execution_count": null,
   "metadata": {},
   "outputs": [],
   "source": [
    "dataset =pd.read_csv('appels_non_linear.csv')\n",
    "dataset.head()"
   ]
  },
  {
   "cell_type": "code",
   "execution_count": null,
   "metadata": {},
   "outputs": [],
   "source": [
    "# Opsplitsen in features en targets\n",
    "\n",
    "features = list(dataset.columns[:dataset.columns.size-1])\n",
    "X = dataset[features].values \n",
    "y= dataset['appel'].values"
   ]
  },
  {
   "cell_type": "code",
   "execution_count": null,
   "metadata": {},
   "outputs": [],
   "source": [
    "# Plot een scatterplot met seaborn\n",
    "\n",
    "sns.set(font_scale = 2) # lettergrootte van de axis labels\n",
    "colors = [\"blue\", \"red\", \"greyish\", \"faded green\", \"dusty purple\"]\n",
    "sns.lmplot(x='rondheid',y='groenheid',data=dataset,fit_reg=False,hue='appel',palette =sns.xkcd_palette(colors),\n",
    "           scatter_kws={'s':500}, height=7, aspect=1.5)\n",
    "#plt.ylim(0, 11)\n",
    "#plt.xlim(0, 11)\n"
   ]
  },
  {
   "cell_type": "code",
   "execution_count": null,
   "metadata": {},
   "outputs": [],
   "source": [
    "# Train een logistic regression classifier\n",
    "\n",
    "logreg = linear_model.LogisticRegression(C=1e5) # C= Inverse of regularization strength;\n",
    "                                                # must be a positive float. Like in support vector machines,\n",
    "                                                # smaller values specify stronger regularization.\n",
    "logreg.fit(X, y)\n",
    "\n",
    "print('coefficiënten: ',logreg.coef_)\n",
    "print('intercept:',logreg.intercept_)"
   ]
  },
  {
   "cell_type": "code",
   "execution_count": null,
   "metadata": {},
   "outputs": [],
   "source": [
    "# Visualiseer de decision boundary\n",
    "\n",
    "h = 0.01\n",
    "\n",
    "rond_min = X[:,0].min()-2\n",
    "rond_max = X[:,0].max()+2\n",
    "\n",
    "groen_min = X[:,1].min()-2\n",
    "groen_max = X[:,1].max()+2\n",
    "\n",
    "\n",
    "xx, yy = np.meshgrid(np.arange(rond_min, rond_max, h),np.arange(groen_min, groen_max, h))\n",
    "\n",
    "Z = logreg.predict(np.c_[xx.ravel(), yy.ravel()])\n",
    "Z = Z.reshape(xx.shape)\n",
    "sns.set(font_scale = 2)\n",
    "colors = [\"blue\", \"red\", \"greyish\", \"faded green\", \"dusty purple\"]\n",
    "sns.lmplot(x='rondheid',y='groenheid',data=dataset,fit_reg=False,hue='appel',palette =sns.xkcd_palette(colors),scatter_kws={'s':500}, height=8, aspect=1.5)\n",
    "plt.ylim(0, 11)\n",
    "plt.xlim(0, 11)\n",
    "\n",
    "plt.contour(xx, yy, Z, colors='green')   "
   ]
  },
  {
   "cell_type": "markdown",
   "metadata": {},
   "source": [
    "### Hogere orde logistic regression classifier"
   ]
  },
  {
   "cell_type": "code",
   "execution_count": null,
   "metadata": {},
   "outputs": [],
   "source": [
    "# Aanmaken van de hogere orde features\n",
    "graad = 3\n",
    "\n",
    "poly = PolynomialFeatures(graad)\n",
    "Xp = poly.fit_transform(X)\n",
    "\n",
    "\n",
    "# Train model op hogere orde features en visualiseer de decision boundary\n",
    "\n",
    "logreg_poly = linear_model.LogisticRegression(C=1)\n",
    "logreg_poly.fit(Xp, y)\n",
    "\n",
    "h = 0.02\n",
    "\n",
    "rond_min = X[:,0].min()-2\n",
    "rond_max = X[:,0].max()+2\n",
    "\n",
    "groen_min = X[:,1].min()-2\n",
    "groen_max = X[:,1].max()+2\n",
    "\n",
    "\n",
    "xx, yy = np.meshgrid(np.arange(rond_min, rond_max, h),np.arange(groen_min, groen_max, h))\n",
    "\n",
    "X_m = np.hstack((xx.reshape(-1,1),yy.reshape(-1,1)))\n",
    " \n",
    "\n",
    "X_mf = poly.fit_transform(X_m)\n",
    "print(X_mf.shape)\n",
    "Z = logreg_poly.predict(X_mf)\n",
    "Z = Z.reshape(xx.shape)\n",
    "\n",
    "\n",
    "sns.set(font_scale = 2)\n",
    "colors = [\"blue\", \"red\", \"greyish\", \"faded green\", \"dusty purple\"]\n",
    "sns.lmplot(x='rondheid',y='groenheid',data=dataset,fit_reg=False,hue='appel',palette =sns.xkcd_palette(colors),scatter_kws={'s':100}, height=8, aspect=1.5)\n",
    "plt.ylim(0, 11)\n",
    "plt.xlim(0, 11)\n",
    "\n",
    "plt.contour(xx, yy, Z, colors='green')   \n"
   ]
  },
  {
   "cell_type": "code",
   "execution_count": null,
   "metadata": {},
   "outputs": [],
   "source": []
  }
 ],
 "metadata": {
  "kernelspec": {
   "display_name": "Python 3",
   "language": "python",
   "name": "python3"
  },
  "language_info": {
   "codemirror_mode": {
    "name": "ipython",
    "version": 3
   },
   "file_extension": ".py",
   "mimetype": "text/x-python",
   "name": "python",
   "nbconvert_exporter": "python",
   "pygments_lexer": "ipython3",
   "version": "3.6.6"
  }
 },
 "nbformat": 4,
 "nbformat_minor": 2
}
