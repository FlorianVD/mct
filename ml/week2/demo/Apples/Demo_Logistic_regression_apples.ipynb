{
 "cells": [
  {
   "cell_type": "code",
   "execution_count": 10,
   "metadata": {},
   "outputs": [],
   "source": [
    "% matplotlib inline\n",
    "import numpy as np\n",
    "import pandas as pd\n",
    "import matplotlib.pyplot as plt\n",
    "from sklearn import linear_model, datasets\n",
    "from sklearn.preprocessing import PolynomialFeatures\n",
    "import seaborn as sns"
   ]
  },
  {
   "cell_type": "markdown",
   "metadata": {},
   "source": [
    "## Classificeer appels op basis van hun groenheid en rondheid\n",
    "### Lineair scheidbare data"
   ]
  },
  {
   "cell_type": "code",
   "execution_count": 11,
   "metadata": {},
   "outputs": [
    {
     "data": {
      "text/html": [
       "<div>\n",
       "<style scoped>\n",
       "    .dataframe tbody tr th:only-of-type {\n",
       "        vertical-align: middle;\n",
       "    }\n",
       "\n",
       "    .dataframe tbody tr th {\n",
       "        vertical-align: top;\n",
       "    }\n",
       "\n",
       "    .dataframe thead th {\n",
       "        text-align: right;\n",
       "    }\n",
       "</style>\n",
       "<table border=\"1\" class=\"dataframe\">\n",
       "  <thead>\n",
       "    <tr style=\"text-align: right;\">\n",
       "      <th></th>\n",
       "      <th>rondheid</th>\n",
       "      <th>groenheid</th>\n",
       "      <th>appel</th>\n",
       "    </tr>\n",
       "  </thead>\n",
       "  <tbody>\n",
       "    <tr>\n",
       "      <th>0</th>\n",
       "      <td>9</td>\n",
       "      <td>8</td>\n",
       "      <td>1</td>\n",
       "    </tr>\n",
       "    <tr>\n",
       "      <th>1</th>\n",
       "      <td>10</td>\n",
       "      <td>7</td>\n",
       "      <td>1</td>\n",
       "    </tr>\n",
       "    <tr>\n",
       "      <th>2</th>\n",
       "      <td>2</td>\n",
       "      <td>3</td>\n",
       "      <td>0</td>\n",
       "    </tr>\n",
       "    <tr>\n",
       "      <th>3</th>\n",
       "      <td>1</td>\n",
       "      <td>2</td>\n",
       "      <td>0</td>\n",
       "    </tr>\n",
       "    <tr>\n",
       "      <th>4</th>\n",
       "      <td>5</td>\n",
       "      <td>8</td>\n",
       "      <td>1</td>\n",
       "    </tr>\n",
       "  </tbody>\n",
       "</table>\n",
       "</div>"
      ],
      "text/plain": [
       "   rondheid  groenheid  appel\n",
       "0         9          8      1\n",
       "1        10          7      1\n",
       "2         2          3      0\n",
       "3         1          2      0\n",
       "4         5          8      1"
      ]
     },
     "execution_count": 11,
     "metadata": {},
     "output_type": "execute_result"
    }
   ],
   "source": [
    "# Importeer de dataset\n",
    "\n",
    "dataset = pd.read_csv('appels.csv')\n",
    "\n",
    "# Toon de eerste rijen van de dataset\n",
    "dataset.head()"
   ]
  },
  {
   "cell_type": "code",
   "execution_count": 16,
   "metadata": {},
   "outputs": [],
   "source": [
    "# Splits op in features en targets\n",
    "# features: x1 = rondheid en x2 = groenheid\n",
    "\n",
    "features = list(dataset.columns[:dataset.columns.size-1])\n",
    "X = dataset[features].values \n",
    "y= dataset['appel'].values"
   ]
  },
  {
   "cell_type": "code",
   "execution_count": 21,
   "metadata": {},
   "outputs": [
    {
     "data": {
      "text/plain": [
       "<seaborn.axisgrid.FacetGrid at 0x7f9b665c16a0>"
      ]
     },
     "execution_count": 21,
     "metadata": {},
     "output_type": "execute_result"
    },
    {
     "data": {
      "image/png": "[encoded data removed]",
      "text/plain": [
       "<Figure size 849.325x504 with 1 Axes>"
      ]
     },
     "metadata": {},
     "output_type": "display_data"
    }
   ],
   "source": [
    "# Plot een scatterplot met seaborn\n",
    "\n",
    "sns.set(font_scale = 2) # lettergrootte van de axis labels\n",
    "colors = [\"blue\", \"red\", \"greyish\", \"faded green\", \"dusty purple\"]\n",
    "sns.lmplot(x='rondheid',y='groenheid',data=dataset,fit_reg=False,hue='appel',palette =sns.xkcd_palette(colors),\n",
    "           scatter_kws={'s':500}, height=7, aspect=1.5)\n",
    "#sns.plt.ylim(0, 11)\n",
    "#sns.plt.xlim(0, 11)"
   ]
  },
  {
   "cell_type": "code",
   "execution_count": 20,
   "metadata": {},
   "outputs": [
    {
     "name": "stdout",
     "output_type": "stream",
     "text": [
      "coefficiënten:  [[6.11753315 5.87035436]]\n",
      "intercept: [-63.07838011]\n"
     ]
    }
   ],
   "source": [
    "# Train een logistic regression classifier\n",
    "\n",
    "logreg = linear_model.LogisticRegression(C=1e5, solver='lbfgs') # C= Inverse of regularization strength;\n",
    "                                                # must be a positive float. Like in support vector machines,\n",
    "                                                # smaller values specify stronger regularization.\n",
    "logreg.fit(X, y)\n",
    "\n",
    "print('coefficiënten: ',logreg.coef_)\n",
    "print('intercept:',logreg.intercept_)"
   ]
  },
  {
   "cell_type": "code",
   "execution_count": null,
   "metadata": {},
   "outputs": [],
   "source": [
    "#voorspel de klasse van een rondheid=8 en een groenheid van 6\n",
    "\n",
    "print(logreg.predict(np.array([8,6]).reshape(1,-1)))\n",
    "\n",
    "print('kans op een appel/geen appel',logreg.predict_proba(np.array([8,6]).reshape(1,-1)))\n",
    "\n",
    "#voorspel de klasse van een rondheid=4 en een groenheid van 4\n",
    "\n",
    "print(logreg.predict(np.array([4,4]).reshape(1,-1)))\n",
    "print('kans op een appel/geen appel',logreg.predict_proba(np.array([4,4]).reshape(1,-1)))"
   ]
  },
  {
   "cell_type": "code",
   "execution_count": null,
   "metadata": {},
   "outputs": [],
   "source": [
    "# Visualiseer de decision boundary\n",
    "\n",
    "h = 0.01\n",
    "rond_min = X[:,0].min()-2\n",
    "rond_max = X[:,0].max()+2\n",
    "groen_min = X[:,1].min()-2\n",
    "groen_max = X[:,1].max()+2\n",
    "xx, yy = np.meshgrid(np.arange(rond_min, rond_max, h),np.arange(groen_min, groen_max, h))\n",
    "Z = logreg.predict(np.c_[xx.ravel(), yy.ravel()])\n",
    "Z = Z.reshape(xx.shape)\n",
    "sns.set(font_scale = 2)\n",
    "colors = [\"blue\", \"red\", \"greyish\", \"faded green\", \"dusty purple\"]\n",
    "sns.lmplot(x='rondheid',y='groenheid',data=dataset,fit_reg=False,hue='appel',palette =sns.xkcd_palette(colors),scatter_kws={'s':200}, height=8, aspect=1.5)\n",
    "plt.ylim(0, 11)\n",
    "plt.xlim(0, 11)\n",
    "plt.contour(xx, yy, Z, colors='green')"
   ]
  },
  {
   "cell_type": "markdown",
   "metadata": {},
   "source": [
    "### Niet-lineair scheidbare data"
   ]
  },
  {
   "cell_type": "code",
   "execution_count": null,
   "metadata": {},
   "outputs": [],
   "source": [
    "dataset =pd.read_csv('appels_non_linear.csv')\n",
    "dataset.head()"
   ]
  },
  {
   "cell_type": "code",
   "execution_count": null,
   "metadata": {},
   "outputs": [],
   "source": [
    "# Opsplitsen in features en targets\n",
    "\n",
    "features = list(dataset.columns[:dataset.columns.size-1])\n",
    "X = dataset[features].values \n",
    "y= dataset['appel'].values"
   ]
  },
  {
   "cell_type": "code",
   "execution_count": null,
   "metadata": {},
   "outputs": [],
   "source": [
    "# Plot een scatterplot met seaborn\n",
    "\n",
    "sns.set(font_scale = 2) # lettergrootte van de axis labels\n",
    "colors = [\"blue\", \"red\", \"greyish\", \"faded green\", \"dusty purple\"]\n",
    "sns.lmplot(x='rondheid',y='groenheid',data=dataset,fit_reg=False,hue='appel',palette =sns.xkcd_palette(colors),\n",
    "           scatter_kws={'s':500}, height=7, aspect=1.5)\n",
    "#plt.ylim(0, 11)\n",
    "#plt.xlim(0, 11)\n"
   ]
  },
  {
   "cell_type": "code",
   "execution_count": null,
   "metadata": {},
   "outputs": [],
   "source": [
    "# Train een logistic regression classifier\n",
    "\n",
    "logreg = linear_model.LogisticRegression(C=1e5) # C= Inverse of regularization strength;\n",
    "                                                # must be a positive float. Like in support vector machines,\n",
    "                                                # smaller values specify stronger regularization.\n",
    "logreg.fit(X, y)\n",
    "\n",
    "print('coefficiënten: ',logreg.coef_)\n",
    "print('intercept:',logreg.intercept_)"
   ]
  },
  {
   "cell_type": "code",
   "execution_count": null,
   "metadata": {},
   "outputs": [],
   "source": [
    "# Visualiseer de decision boundary\n",
    "\n",
    "h = 0.01\n",
    "\n",
    "rond_min = X[:,0].min()-2\n",
    "rond_max = X[:,0].max()+2\n",
    "\n",
    "groen_min = X[:,1].min()-2\n",
    "groen_max = X[:,1].max()+2\n",
    "\n",
    "\n",
    "xx, yy = np.meshgrid(np.arange(rond_min, rond_max, h),np.arange(groen_min, groen_max, h))\n",
    "\n",
    "Z = logreg.predict(np.c_[xx.ravel(), yy.ravel()])\n",
    "Z = Z.reshape(xx.shape)\n",
    "sns.set(font_scale = 2)\n",
    "colors = [\"blue\", \"red\", \"greyish\", \"faded green\", \"dusty purple\"]\n",
    "sns.lmplot(x='rondheid',y='groenheid',data=dataset,fit_reg=False,hue='appel',palette =sns.xkcd_palette(colors),scatter_kws={'s':500}, height=8, aspect=1.5)\n",
    "plt.ylim(0, 11)\n",
    "plt.xlim(0, 11)\n",
    "\n",
    "plt.contour(xx, yy, Z, colors='green')   "
   ]
  },
  {
   "cell_type": "markdown",
   "metadata": {},
   "source": [
    "### Hogere orde logistic regression classifier"
   ]
  },
  {
   "cell_type": "code",
   "execution_count": null,
   "metadata": {},
   "outputs": [],
   "source": [
    "# Aanmaken van de hogere orde features\n",
    "graad = 3\n",
    "\n",
    "poly = PolynomialFeatures(graad)\n",
    "Xp = poly.fit_transform(X)\n",
    "\n",
    "\n",
    "# Train model op hogere orde features en visualiseer de decision boundary\n",
    "\n",
    "logreg_poly = linear_model.LogisticRegression(C=1)\n",
    "logreg_poly.fit(Xp, y)\n",
    "\n",
    "h = 0.02\n",
    "\n",
    "rond_min = X[:,0].min()-2\n",
    "rond_max = X[:,0].max()+2\n",
    "\n",
    "groen_min = X[:,1].min()-2\n",
    "groen_max = X[:,1].max()+2\n",
    "\n",
    "\n",
    "xx, yy = np.meshgrid(np.arange(rond_min, rond_max, h),np.arange(groen_min, groen_max, h))\n",
    "\n",
    "X_m = np.hstack((xx.reshape(-1,1),yy.reshape(-1,1)))\n",
    " \n",
    "\n",
    "X_mf = poly.fit_transform(X_m)\n",
    "print(X_mf.shape)\n",
    "Z = logreg_poly.predict(X_mf)\n",
    "Z = Z.reshape(xx.shape)\n",
    "\n",
    "\n",
    "sns.set(font_scale = 2)\n",
    "colors = [\"blue\", \"red\", \"greyish\", \"faded green\", \"dusty purple\"]\n",
    "sns.lmplot(x='rondheid',y='groenheid',data=dataset,fit_reg=False,hue='appel',palette =sns.xkcd_palette(colors),scatter_kws={'s':100}, height=8, aspect=1.5)\n",
    "plt.ylim(0, 11)\n",
    "plt.xlim(0, 11)\n",
    "\n",
    "plt.contour(xx, yy, Z, colors='green')   \n"
   ]
  },
  {
   "cell_type": "code",
   "execution_count": null,
   "metadata": {},
   "outputs": [],
   "source": []
  }
 ],
 "metadata": {
  "kernelspec": {
   "display_name": "Python 3",
   "language": "python",
   "name": "python3"
  },
  "language_info": {
   "codemirror_mode": {
    "name": "ipython",
    "version": 3
   },
   "file_extension": ".py",
   "mimetype": "text/x-python",
   "name": "python",
   "nbconvert_exporter": "python",
   "pygments_lexer": "ipython3",
   "version": "3.6.7"
  }
 },
 "nbformat": 4,
 "nbformat_minor": 2
}
