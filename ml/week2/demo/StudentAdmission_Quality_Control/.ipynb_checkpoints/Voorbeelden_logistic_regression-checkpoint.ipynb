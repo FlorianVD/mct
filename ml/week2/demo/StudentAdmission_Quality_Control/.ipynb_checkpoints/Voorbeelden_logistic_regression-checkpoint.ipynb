{
 "cells": [
  {
   "cell_type": "markdown",
   "metadata": {},
   "source": [
    "# Voorbeelden logistic regression"
   ]
  },
  {
   "cell_type": "markdown",
   "metadata": {},
   "source": [
    "## Student admission"
   ]
  },
  {
   "cell_type": "code",
   "execution_count": 1,
   "metadata": {},
   "outputs": [],
   "source": [
    "% matplotlib inline\n",
    "import numpy as np\n",
    "import pandas as pd\n",
    "import matplotlib.pyplot as plt\n",
    "from sklearn.preprocessing import PolynomialFeatures\n",
    "from sklearn import linear_model, datasets"
   ]
  },
  {
   "cell_type": "markdown",
   "metadata": {},
   "source": [
    "In dit voorbeeld wordt een logistic regression model gebruikt om te voorspellen of een student tot een bepaalde opleiding zal worden toegelaten.\n",
    "Stel dat je de kans tot toetreding van een kandidaat student baseert op de scores die hij/zij behaalt op twee verschillende examens.\n",
    "Je beschikt over historische data van vroegere kandidaten. Deze data is te vinden in het bestand *StudentAdmission.csv*. \n",
    "Voor elke training sample beschikken we over de kandidaat zijn/haar scores voor de twee verschillende examens alsook het uiteindelijke oordeel of deze persoon al dan niet werd toegelaten.\n",
    "De taak bestaat erin een classifier te ontwerpen die op basis van de examenscores van een nieuwe kandidaat de kans bepaalt dat hij of zij wordt toegelaten.\n",
    "\n"
   ]
  },
  {
   "cell_type": "markdown",
   "metadata": {},
   "source": [
    "### Inladen en visualiseren van de data"
   ]
  },
  {
   "cell_type": "markdown",
   "metadata": {},
   "source": [
    "Laad de data in en stop ze in een Panda's dataframe."
   ]
  },
  {
   "cell_type": "code",
   "execution_count": 2,
   "metadata": {},
   "outputs": [
    {
     "data": {
      "text/html": [
       "<div>\n",
       "<style scoped>\n",
       "    .dataframe tbody tr th:only-of-type {\n",
       "        vertical-align: middle;\n",
       "    }\n",
       "\n",
       "    .dataframe tbody tr th {\n",
       "        vertical-align: top;\n",
       "    }\n",
       "\n",
       "    .dataframe thead th {\n",
       "        text-align: right;\n",
       "    }\n",
       "</style>\n",
       "<table border=\"1\" class=\"dataframe\">\n",
       "  <thead>\n",
       "    <tr style=\"text-align: right;\">\n",
       "      <th></th>\n",
       "      <th>Score1</th>\n",
       "      <th>Score2</th>\n",
       "      <th>Admission</th>\n",
       "    </tr>\n",
       "  </thead>\n",
       "  <tbody>\n",
       "    <tr>\n",
       "      <th>0</th>\n",
       "      <td>34.623660</td>\n",
       "      <td>78.024693</td>\n",
       "      <td>0</td>\n",
       "    </tr>\n",
       "    <tr>\n",
       "      <th>1</th>\n",
       "      <td>30.286711</td>\n",
       "      <td>43.894998</td>\n",
       "      <td>0</td>\n",
       "    </tr>\n",
       "    <tr>\n",
       "      <th>2</th>\n",
       "      <td>35.847409</td>\n",
       "      <td>72.902198</td>\n",
       "      <td>0</td>\n",
       "    </tr>\n",
       "    <tr>\n",
       "      <th>3</th>\n",
       "      <td>60.182599</td>\n",
       "      <td>86.308552</td>\n",
       "      <td>1</td>\n",
       "    </tr>\n",
       "    <tr>\n",
       "      <th>4</th>\n",
       "      <td>79.032736</td>\n",
       "      <td>75.344376</td>\n",
       "      <td>1</td>\n",
       "    </tr>\n",
       "  </tbody>\n",
       "</table>\n",
       "</div>"
      ],
      "text/plain": [
       "      Score1     Score2  Admission\n",
       "0  34.623660  78.024693          0\n",
       "1  30.286711  43.894998          0\n",
       "2  35.847409  72.902198          0\n",
       "3  60.182599  86.308552          1\n",
       "4  79.032736  75.344376          1"
      ]
     },
     "execution_count": 2,
     "metadata": {},
     "output_type": "execute_result"
    }
   ],
   "source": [
    "# Inladen van de data\n",
    "\n",
    "datasetAdmission = pd.read_csv('StudentAdmission.csv')\n",
    "datasetAdmission.head()"
   ]
  },
  {
   "cell_type": "markdown",
   "metadata": {},
   "source": [
    "**Scatterplot**"
   ]
  },
  {
   "cell_type": "code",
   "execution_count": 3,
   "metadata": {},
   "outputs": [
    {
     "data": {
      "text/plain": [
       "<matplotlib.legend.Legend at 0x7fa8e2731518>"
      ]
     },
     "execution_count": 3,
     "metadata": {},
     "output_type": "execute_result"
    },
    {
     "data": {
      "image/png": "[encoded data removed]",
      "text/plain": [
       "<Figure size 432x288 with 1 Axes>"
      ]
     },
     "metadata": {
      "needs_background": "light"
     },
     "output_type": "display_data"
    }
   ],
   "source": [
    "# Visualiseren van de data in een scatterplot\n",
    "\n",
    "x1 = datasetAdmission[['Score1']].values\n",
    "x2 = datasetAdmission[['Score2']].values\n",
    "y = datasetAdmission[['Admission']].values\n",
    "\n",
    "zero_class = (y ==0)\n",
    "one_class =  (y==1)\n",
    "\n",
    "\n",
    "labels = ['Niet toegelaten', 'Toegelaten']\n",
    "fig_admission = plt.figure()\n",
    "ax_admission = fig_admission.add_axes([0,0,1,1])\n",
    "ax_admission.scatter(x1[zero_class],x2[zero_class], c='b', s=75, label='Niet toegelaten')\n",
    "ax_admission.scatter(x1[one_class], x2[one_class], c='r',s=75, label='Toegelaten')\n",
    "ax_admission.set_xlabel('Score 1')\n",
    "ax_admission.set_ylabel('Score 2')\n",
    "ax_admission.legend(loc=1,numpoints=1)"
   ]
  },
  {
   "cell_type": "markdown",
   "metadata": {},
   "source": [
    "Train een logistic regression model. "
   ]
  },
  {
   "cell_type": "code",
   "execution_count": 5,
   "metadata": {},
   "outputs": [
    {
     "name": "stdout",
     "output_type": "stream",
     "text": [
      "['Score1', 'Score2']\n"
     ]
    },
    {
     "data": {
      "text/plain": [
       "LogisticRegression(C=100000.0, class_weight=None, dual=False,\n",
       "          fit_intercept=True, intercept_scaling=1, max_iter=100,\n",
       "          multi_class='ovr', n_jobs=1, penalty='l2', random_state=None,\n",
       "          solver='liblinear', tol=0.0001, verbose=0, warm_start=False)"
      ]
     },
     "execution_count": 5,
     "metadata": {},
     "output_type": "execute_result"
    }
   ],
   "source": [
    "features = list(datasetAdmission.columns[:2])\n",
    "print(features)\n",
    "X = datasetAdmission[features].values \n",
    "\n",
    "y= datasetAdmission['Admission'].values\n",
    "\n",
    "logreg = linear_model.LogisticRegression(C=1e5,solver='liblinear')\n",
    "logreg.fit(X, y)"
   ]
  },
  {
   "cell_type": "markdown",
   "metadata": {},
   "source": [
    "Visualiseren van de decision boundary"
   ]
  },
  {
   "cell_type": "code",
   "execution_count": 6,
   "metadata": {},
   "outputs": [
    {
     "data": {
      "text/plain": [
       "<matplotlib.collections.PathCollection at 0x7fa8e266c2b0>"
      ]
     },
     "execution_count": 6,
     "metadata": {},
     "output_type": "execute_result"
    },
    {
     "data": {
      "image/png": "[encoded data removed]",
      "text/plain": [
       "<Figure size 432x288 with 1 Axes>"
      ]
     },
     "metadata": {
      "needs_background": "light"
     },
     "output_type": "display_data"
    }
   ],
   "source": [
    "# Visualiseren van de decision boundary\n",
    "h = 0.1\n",
    "x1_min, x1_max = X[:, 0].min() - .5, X[:, 0].max() + .5\n",
    "x2_min, x2_max = X[:, 1].min() - .5, X[:, 1].max() + .5\n",
    "xx, yy = np.meshgrid(np.arange(x1_min, x1_max, h), np.arange(x2_min, x2_max, h))\n",
    "Z = logreg.predict(np.c_[xx.ravel(), yy.ravel()])\n",
    "\n",
    "fig_admission = plt.figure()\n",
    "ax_admission = fig_admission.add_axes([0,0,1,1])\n",
    "\n",
    "Z = Z.reshape(xx.shape)\n",
    "\n",
    "ax_admission.pcolormesh(xx, yy, Z,cmap='Accent')\n",
    "\n",
    "ax_admission.scatter(x1[zero_class],x2[zero_class], c='b', s=150, label='Niet toegelaten')\n",
    "ax_admission.scatter(x1[one_class], x2[one_class], c='r',s=150, label='Toegelaten')"
   ]
  },
  {
   "cell_type": "markdown",
   "metadata": {},
   "source": [
    "Voorspel of een nieuwe kandidaat met een score op het eerste examen van 45 en een score van 85 op het tweede examen al dan niet zal worden toegelaten. Vergelijk de voorspelling met de grafische voorstelling van de decision boundary."
   ]
  },
  {
   "cell_type": "code",
   "execution_count": 7,
   "metadata": {},
   "outputs": [
    {
     "name": "stdout",
     "output_type": "stream",
     "text": [
      "[1]\n"
     ]
    }
   ],
   "source": [
    "print(logreg.predict(np.array([45,85]).reshape(1, -1)))"
   ]
  },
  {
   "cell_type": "markdown",
   "metadata": {},
   "source": [
    "**Gebruiken van hogere orde features**"
   ]
  },
  {
   "cell_type": "code",
   "execution_count": null,
   "metadata": {},
   "outputs": [],
   "source": [
    "# Aanmaken van de hogere orde features\n",
    "graad = 4\n",
    "\n",
    "poly = PolynomialFeatures(graad)\n",
    "Xp = poly.fit_transform(X)\n",
    "\n",
    "\n",
    "# Train model op hogere orde features en visualiseer de decision boundary\n",
    "\n",
    "logreg_poly = linear_model.LogisticRegression(C=1,solver='liblinear')\n",
    "logreg_poly.fit(Xp, y)\n",
    "\n",
    "\n",
    "# Visualiseren van de decision boundary\n",
    "h = 0.2\n",
    "x1_min, x1_max = X[:, 0].min() - .5, X[:, 0].max() + .5\n",
    "x2_min, x2_max = X[:, 1].min() - .5, X[:, 1].max() + .5\n",
    "xx, yy = np.meshgrid(np.arange(x1_min, x1_max, h), np.arange(x2_min, x2_max, h))\n",
    "\n",
    "XXp = np.c_[xx.ravel(), yy.ravel()]\n",
    "\n",
    "\n",
    "xx_p = poly.fit_transform(XXp)\n",
    "\n",
    "\n",
    "Z = logreg_poly.predict(xx_p)\n",
    "\n",
    "fig_admission = plt.figure()\n",
    "ax_admission = fig_admission.add_axes([0,0,1,1])\n",
    "\n",
    "\n",
    "print(xx.shape)\n",
    "Z = Z.reshape(xx.shape)\n",
    "\n",
    "ax_admission.pcolormesh(xx, yy, Z,cmap='Accent')\n",
    "\n",
    "ax_admission.scatter(x1[zero_class],x2[zero_class], c='b', s=150, label='Niet toegelaten')\n",
    "ax_admission.scatter(x1[one_class], x2[one_class], c='r',s=150, label='Toegelaten')\n",
    "\n",
    "\n"
   ]
  },
  {
   "cell_type": "markdown",
   "metadata": {},
   "source": [
    "## Kwaliteitscontrole"
   ]
  },
  {
   "cell_type": "markdown",
   "metadata": {},
   "source": [
    "In dit deel van de opdracht zal je geregulariseerde logistic regressie toepassen om te voorspellen of een zonnecel die aan twee verschillende testen werd onderworpen correct werkt.\n",
    "Je beschikt over testresulaten van een aantal zonnecellen uit het verleden in het bestand *Kwaliteitscontrole.csv* waarop je het logistic regression model kan trainen.\n",
    "\n",
    "Zoek een performant model dat je op basis van twee testen betrouwbaar kan zeggen of je een bepaalde zonnecel moet accepteren of verwerpen.\n",
    "\n",
    "\n"
   ]
  },
  {
   "cell_type": "markdown",
   "metadata": {},
   "source": [
    "### Inladen en visualiseren van de data"
   ]
  },
  {
   "cell_type": "code",
   "execution_count": 8,
   "metadata": {},
   "outputs": [
    {
     "data": {
      "text/html": [
       "<div>\n",
       "<style scoped>\n",
       "    .dataframe tbody tr th:only-of-type {\n",
       "        vertical-align: middle;\n",
       "    }\n",
       "\n",
       "    .dataframe tbody tr th {\n",
       "        vertical-align: top;\n",
       "    }\n",
       "\n",
       "    .dataframe thead th {\n",
       "        text-align: right;\n",
       "    }\n",
       "</style>\n",
       "<table border=\"1\" class=\"dataframe\">\n",
       "  <thead>\n",
       "    <tr style=\"text-align: right;\">\n",
       "      <th></th>\n",
       "      <th>Test1</th>\n",
       "      <th>Test2</th>\n",
       "      <th>WerktCorrect</th>\n",
       "    </tr>\n",
       "  </thead>\n",
       "  <tbody>\n",
       "    <tr>\n",
       "      <th>0</th>\n",
       "      <td>0.051267</td>\n",
       "      <td>0.69956</td>\n",
       "      <td>1</td>\n",
       "    </tr>\n",
       "    <tr>\n",
       "      <th>1</th>\n",
       "      <td>-0.092742</td>\n",
       "      <td>0.68494</td>\n",
       "      <td>1</td>\n",
       "    </tr>\n",
       "    <tr>\n",
       "      <th>2</th>\n",
       "      <td>-0.213710</td>\n",
       "      <td>0.69225</td>\n",
       "      <td>1</td>\n",
       "    </tr>\n",
       "    <tr>\n",
       "      <th>3</th>\n",
       "      <td>-0.375000</td>\n",
       "      <td>0.50219</td>\n",
       "      <td>1</td>\n",
       "    </tr>\n",
       "    <tr>\n",
       "      <th>4</th>\n",
       "      <td>-0.513250</td>\n",
       "      <td>0.46564</td>\n",
       "      <td>1</td>\n",
       "    </tr>\n",
       "  </tbody>\n",
       "</table>\n",
       "</div>"
      ],
      "text/plain": [
       "      Test1    Test2  WerktCorrect\n",
       "0  0.051267  0.69956             1\n",
       "1 -0.092742  0.68494             1\n",
       "2 -0.213710  0.69225             1\n",
       "3 -0.375000  0.50219             1\n",
       "4 -0.513250  0.46564             1"
      ]
     },
     "execution_count": 8,
     "metadata": {},
     "output_type": "execute_result"
    }
   ],
   "source": [
    "# Inlezen van de dataset\n",
    "dataset_QC = pd.read_csv('Kwaliteitscontrole.csv')\n",
    "dataset_QC.head()"
   ]
  },
  {
   "cell_type": "markdown",
   "metadata": {},
   "source": [
    "Visualiseer de data met behulp van een scatterplot. Duid de twee verschillende klasses (geaccepteerd of verworpen) aan met een verschillend symbool of kleur. "
   ]
  },
  {
   "cell_type": "code",
   "execution_count": 9,
   "metadata": {},
   "outputs": [
    {
     "data": {
      "text/plain": [
       "<matplotlib.legend.Legend at 0x7fa8e0f67a58>"
      ]
     },
     "execution_count": 9,
     "metadata": {},
     "output_type": "execute_result"
    },
    {
     "data": {
      "image/png": "[encoded data removed]",
      "text/plain": [
       "<Figure size 432x288 with 1 Axes>"
      ]
     },
     "metadata": {
      "needs_background": "light"
     },
     "output_type": "display_data"
    }
   ],
   "source": [
    "# Visualiseren van de data in een scatterplot\n",
    "\n",
    "x1 = dataset_QC[['Test1']].values\n",
    "x2 = dataset_QC[['Test2']].values\n",
    "y = dataset_QC[['WerktCorrect']].values\n",
    "\n",
    "zero_class = (y ==0)\n",
    "one_class =  (y==1)\n",
    "\n",
    "\n",
    "labels = ['Verworpen', 'Geaccepteerd']\n",
    "fig_QC = plt.figure()\n",
    "ax_QC = fig_QC.add_axes([0,0,1,1])\n",
    "ax_QC.scatter(x1[zero_class],x2[zero_class], c='b', s=75, label='Verworpen')\n",
    "ax_QC.scatter(x1[one_class], x2[one_class], c='r',s=75, label='Geaccepteerd')\n",
    "ax_QC.set_xlabel('Score 1')\n",
    "ax_QC.set_ylabel('Score 2')\n",
    "ax_QC.legend(loc=1,numpoints=1)\n",
    "\n"
   ]
  },
  {
   "cell_type": "markdown",
   "metadata": {},
   "source": [
    "Train een logistic regression model. "
   ]
  },
  {
   "cell_type": "code",
   "execution_count": 10,
   "metadata": {},
   "outputs": [
    {
     "data": {
      "text/plain": [
       "LogisticRegression(C=100000.0, class_weight=None, dual=False,\n",
       "          fit_intercept=True, intercept_scaling=1, max_iter=100,\n",
       "          multi_class='ovr', n_jobs=1, penalty='l2', random_state=None,\n",
       "          solver='liblinear', tol=0.0001, verbose=0, warm_start=False)"
      ]
     },
     "execution_count": 10,
     "metadata": {},
     "output_type": "execute_result"
    }
   ],
   "source": [
    "X = np.concatenate((x1,x2),1)\n",
    "y=y.ravel()\n",
    "logreg = linear_model.LogisticRegression(C=1e5,solver='liblinear')\n",
    "logreg.fit(X, y)"
   ]
  },
  {
   "cell_type": "markdown",
   "metadata": {},
   "source": [
    "Visualiseer de decision boundary en bespreek deze decision boundary. Hoe goed voorspelt het model de trainingset?"
   ]
  },
  {
   "cell_type": "code",
   "execution_count": 11,
   "metadata": {},
   "outputs": [
    {
     "data": {
      "text/plain": [
       "<matplotlib.collections.PathCollection at 0x7fa8e26092b0>"
      ]
     },
     "execution_count": 11,
     "metadata": {},
     "output_type": "execute_result"
    },
    {
     "data": {
      "image/png": "[encoded data removed]",
      "text/plain": [
       "<Figure size 432x288 with 1 Axes>"
      ]
     },
     "metadata": {
      "needs_background": "light"
     },
     "output_type": "display_data"
    }
   ],
   "source": [
    "# Visualiseer de decision boundary\n",
    "h = 0.01\n",
    "x1_min, x1_max = X[:, 0].min() - .5, X[:, 0].max() + .5\n",
    "x2_min, x2_max = X[:, 1].min() - .5, X[:, 1].max() + .5\n",
    "xx, yy = np.meshgrid(np.arange(x1_min, x1_max, h), np.arange(x2_min, x2_max, h))\n",
    "Z = logreg.predict(np.c_[xx.ravel(), yy.ravel()])\n",
    "\n",
    "fig_QC = plt.figure()\n",
    "ax_QC = fig_QC.add_axes([0,0,1,1])\n",
    "\n",
    "Z = Z.reshape(xx.shape)\n",
    "\n",
    "ax_QC.pcolormesh(xx, yy, Z,cmap='Accent')\n",
    "\n",
    "ax_QC.scatter(x1[zero_class],x2[zero_class], c='b', s=150, label='Verworpen')\n",
    "ax_QC.scatter(x1[one_class], x2[one_class], c='r',s=150, label='Geaccepteerd')"
   ]
  },
  {
   "cell_type": "markdown",
   "metadata": {},
   "source": [
    "**Hogere orde features**\n"
   ]
  },
  {
   "cell_type": "code",
   "execution_count": 12,
   "metadata": {},
   "outputs": [
    {
     "name": "stdout",
     "output_type": "stream",
     "text": [
      "(288, 291)\n"
     ]
    },
    {
     "data": {
      "text/plain": [
       "<matplotlib.collections.PathCollection at 0x7fa8e25ed390>"
      ]
     },
     "execution_count": 12,
     "metadata": {},
     "output_type": "execute_result"
    },
    {
     "data": {
      "image/png": "[encoded data removed]",
      "text/plain": [
       "<Figure size 432x288 with 1 Axes>"
      ]
     },
     "metadata": {
      "needs_background": "light"
     },
     "output_type": "display_data"
    }
   ],
   "source": [
    "# Aanmaken van de hogere orde features\n",
    "graad = 10\n",
    "\n",
    "poly = PolynomialFeatures(graad)\n",
    "Xp = poly.fit_transform(X)\n",
    "\n",
    "\n",
    "# Train model op hogere orde features en visualiseer de decision boundary\n",
    "\n",
    "logreg_poly = linear_model.LogisticRegression(C=10000000,solver='liblinear')\n",
    "logreg_poly.fit(Xp, y)\n",
    "\n",
    "\n",
    "# Visualiseren van de decision boundary\n",
    "h = 0.01\n",
    "x1_min, x1_max = X[:, 0].min() - .5, X[:, 0].max() + .5\n",
    "x2_min, x2_max = X[:, 1].min() - .5, X[:, 1].max() + .5\n",
    "xx, yy = np.meshgrid(np.arange(x1_min, x1_max, h), np.arange(x2_min, x2_max, h))\n",
    "\n",
    "XXp = np.c_[xx.ravel(), yy.ravel()]\n",
    "\n",
    "\n",
    "xx_p = poly.fit_transform(XXp)\n",
    "\n",
    "\n",
    "Z = logreg_poly.predict(xx_p)\n",
    "\n",
    "fig_admission = plt.figure()\n",
    "ax_admission = fig_admission.add_axes([0,0,1,1])\n",
    "\n",
    "\n",
    "print(xx.shape)\n",
    "Z = Z.reshape(xx.shape)\n",
    "\n",
    "ax_admission.pcolormesh(xx, yy, Z,cmap='Accent')\n",
    "\n",
    "ax_admission.scatter(x1[zero_class],x2[zero_class], c='b', s=100, label='Niet toegelaten')\n",
    "ax_admission.scatter(x1[one_class], x2[one_class], c='r',s=100, label='Toegelaten')\n"
   ]
  },
  {
   "cell_type": "code",
   "execution_count": null,
   "metadata": {},
   "outputs": [],
   "source": []
  }
 ],
 "metadata": {
  "kernelspec": {
   "display_name": "Python 3",
   "language": "python",
   "name": "python3"
  },
  "language_info": {
   "codemirror_mode": {
    "name": "ipython",
    "version": 3
   },
   "file_extension": ".py",
   "mimetype": "text/x-python",
   "name": "python",
   "nbconvert_exporter": "python",
   "pygments_lexer": "ipython3",
   "version": "3.6.6"
  },
  "toc": {
   "toc_cell": false,
   "toc_number_sections": true,
   "toc_threshold": 6,
   "toc_window_display": false
  }
 },
 "nbformat": 4,
 "nbformat_minor": 1
}
