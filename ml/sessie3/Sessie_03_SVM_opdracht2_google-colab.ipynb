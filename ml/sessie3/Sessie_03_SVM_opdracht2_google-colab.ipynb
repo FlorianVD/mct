{
  "nbformat": 4,
  "nbformat_minor": 0,
  "metadata": {
    "colab": {
      "name": "Sessie03.ipynb",
      "provenance": [],
      "collapsed_sections": [],
      "toc_visible": true
    },
    "kernelspec": {
      "name": "python3",
      "display_name": "Python 3"
    }
  },
  "cells": [
    {
      "cell_type": "markdown",
      "metadata": {
        "id": "YvpvvS18bLun",
        "colab_type": "text"
      },
      "source": [
        "## Opdracht 2 - MNIST\n",
        "\n",
        "De MNIST (\"Modified National Institute of Standards and Technology\")is een veelgebruikte dataset voor het testen en benchmarken van klassificatie algoritmes. Het bevat tienduizenden afbeeldingen van handgeschreven getallen. Meer info over deze dataset is te vinden op: http://yann.lecun.com/exdb/mnist/\n",
        "\n",
        "Bij deze opdracht worden 3 databestanden meegeleverd:\n",
        "\n",
        "    'train.csv' bevat gelabelde data voor trainen van de classifier.\n",
        "    'test.csv' bevat gelabelde data voor het testen van de getrainde classifier\n",
        "    'test_Kaggle.csv' bevat niet-gelabelde data voor het evalueren van de classifier via de competitie te vinden op https://www.kaggle.com/c/digit-recognizer. Deze data is dus enkel bruikbaar bij deelname aan de Kaggle competitie.\n",
        "\n",
        "1) Train zowel een logistic regression classifier als een Support Vector Machine (met of zonder kernel. Ga via tuning van de hyperparameters op zoek naar de meest performante classifier. Doe dit door de accuracy te maximaliseren of de error rate te minimaliseren op de test.csv dataset. De error rate = 1- accuracy. Het trainen van Support Vector Machines (zeker deze met kernel) vragen enorm veel rekenkracht. Het is daarom verstandig om in eerste instantie te trainen op een klein deel van de training set. Het trainen via logistic regression is minder belastend voor de CPU, desalniettemin wordt aangeraden om de lbfgs solver te gebruiken. (LogisticRegression(multi_class='multinomial', solver='lbfgs'))\n",
        "\n",
        "2) Verzorg de code telkens van commentaar en schrijf jouw conclusies en besluiten neer.\n",
        "\n",
        "3) Is het nodig om hier te normaliseren? Welke normalisatie zou je gebruiken? Is de standardscaler een goede keuze?\n",
        "\n",
        "4) Onderzoek de twee verschillende types van multiclass classification: one-vs-one (ovo) of one-vs-rest (ovr). Kijk vooral naar accuracy en berekeningstijd. Wat zijn de conclusies?\n",
        "\n",
        "5) Test jouw uiteindelijke classifier met een aantal zelf geschreven getallen. Wat zijn de bevindingen? Waarvan hangt classificatienauwkeurigheid af?\n",
        "\n",
        "6) Optioneel: test op de 'test_Kaggle' dataset en laad de resultaten in het juiste formaat op naar de Kaggle website. Wat is de behaalde score? Vergelijk deze score met de score op http://yann.lecun.com/exdb/mnist/\n",
        "\n",
        "Het visualiseren van een digit kan met 'plt.imshow(X_train[n].reshape((28, 28)),cmap = 'gray')'"
      ]
    },
    {
      "cell_type": "code",
      "metadata": {
        "id": "8tGO5L8aS6Kd",
        "colab_type": "code",
        "colab": {}
      },
      "source": [
        "import numpy as np\n",
        "import pandas as pd\n",
        "import matplotlib.pyplot as plt\n",
        "import seaborn as sns\n",
        "\n",
        "from sklearn.model_selection import train_test_split\n",
        "import sklearn.metrics as metrics\n",
        "from sklearn import preprocessing\n",
        "from sklearn.linear_model import LogisticRegression\n",
        "from sklearn.svm import SVC\n",
        "from sklearn.model_selection import RandomizedSearchCV"
      ],
      "execution_count": 0,
      "outputs": []
    },
    {
      "cell_type": "code",
      "metadata": {
        "id": "cgsFpzMpXwED",
        "colab_type": "code",
        "outputId": "e8bb0943-13cf-4d98-b149-02f550031a11",
        "colab": {
          "base_uri": "https://localhost:8080/",
          "height": 134
        }
      },
      "source": [
        "from google.colab import drive\n",
        "drive.mount('/content/drive')"
      ],
      "execution_count": 2,
      "outputs": [
        {
          "output_type": "stream",
          "text": [
            "Go to this URL in a browser: https://accounts.google.com/o/oauth2/auth?client_id=947318989803-6bn6qk8qdgf4n4g3pfee6491hc0brc4i.apps.googleusercontent.com&redirect_uri=urn%3aietf%3awg%3aoauth%3a2.0%3aoob&response_type=code&scope=email%20https%3a%2f%2fwww.googleapis.com%2fauth%2fdocs.test%20https%3a%2f%2fwww.googleapis.com%2fauth%2fdrive%20https%3a%2f%2fwww.googleapis.com%2fauth%2fdrive.photos.readonly%20https%3a%2f%2fwww.googleapis.com%2fauth%2fpeopleapi.readonly\n",
            "\n",
            "Enter your authorization code:\n",
            "··········\n",
            "Mounted at /content/drive\n"
          ],
          "name": "stdout"
        }
      ]
    },
    {
      "cell_type": "code",
      "metadata": {
        "id": "tiRXRedJaEiq",
        "colab_type": "code",
        "colab": {}
      },
      "source": [
        "# Train set inlezen\n",
        "digits = pd.read_csv('/content/drive/My Drive/datasets/train.csv')\n",
        "test = pd.read_csv('/content/drive/My Drive/datasets/test.csv')"
      ],
      "execution_count": 0,
      "outputs": []
    },
    {
      "cell_type": "code",
      "metadata": {
        "id": "0iUff2qmdCuK",
        "colab_type": "code",
        "outputId": "0714eff1-f4fc-4341-cbdb-99d049c76238",
        "colab": {
          "base_uri": "https://localhost:8080/",
          "height": 327
        }
      },
      "source": [
        "print(digits.head())\n",
        "print(test.head())"
      ],
      "execution_count": 0,
      "outputs": [
        {
          "output_type": "stream",
          "text": [
            "   label  pixel0  pixel1  pixel2  ...  pixel780  pixel781  pixel782  pixel783\n",
            "0      1       0       0       0  ...         0         0         0         0\n",
            "1      0       0       0       0  ...         0         0         0         0\n",
            "2      1       0       0       0  ...         0         0         0         0\n",
            "3      4       0       0       0  ...         0         0         0         0\n",
            "4      0       0       0       0  ...         0         0         0         0\n",
            "\n",
            "[5 rows x 785 columns]\n",
            "   label  pixel0  pixel1  pixel2  ...  pixel780  pixel781  pixel782  pixel783\n",
            "0      3       0       0       0  ...         0         0         0         0\n",
            "1      8       0       0       0  ...         0         0         0         0\n",
            "2      0       0       0       0  ...         0         0         0         0\n",
            "3      0       0       0       0  ...         0         0         0         0\n",
            "4      3       0       0       0  ...         0         0         0         0\n",
            "\n",
            "[5 rows x 785 columns]\n"
          ],
          "name": "stdout"
        }
      ]
    },
    {
      "cell_type": "code",
      "metadata": {
        "id": "8uyHMocHaMiX",
        "colab_type": "code",
        "outputId": "879dcc6f-02b7-4cfd-8140-7248c1149f8b",
        "colab": {
          "base_uri": "https://localhost:8080/",
          "height": 56
        }
      },
      "source": [
        "print(digits.shape)\n",
        "print(test.shape)"
      ],
      "execution_count": 0,
      "outputs": [
        {
          "output_type": "stream",
          "text": [
            "(30000, 785)\n",
            "(12000, 785)\n"
          ],
          "name": "stdout"
        }
      ]
    },
    {
      "cell_type": "code",
      "metadata": {
        "id": "cITJOHrcc-xc",
        "colab_type": "code",
        "colab": {}
      },
      "source": [
        "# splits train set in labels en features\n",
        "y_train = digits['label']\n",
        "X_train = digits.drop(['label'], axis=1)\n",
        "\n",
        "X_train, X_test, y_train, y_test = train_test_split(X_train, y_train, train_size=2000, test_size=1, random_state=123)\n",
        "\n",
        "# splits test set in labels en features\n",
        "y_test = test['label']\n",
        "X_test = test.drop(['label'], axis=1)"
      ],
      "execution_count": 0,
      "outputs": []
    },
    {
      "cell_type": "code",
      "metadata": {
        "id": "8tYiBRdnxrpT",
        "colab_type": "code",
        "outputId": "0668cc72-8c54-44a3-bb23-07780c253e8b",
        "colab": {
          "base_uri": "https://localhost:8080/",
          "height": 56
        }
      },
      "source": [
        "print(X_train.shape)\n",
        "print(y_train.shape)"
      ],
      "execution_count": 66,
      "outputs": [
        {
          "output_type": "stream",
          "text": [
            "(12000, 784)\n",
            "(12000,)\n"
          ],
          "name": "stdout"
        }
      ]
    },
    {
      "cell_type": "code",
      "metadata": {
        "id": "MyFGYsPKdV3P",
        "colab_type": "code",
        "colab": {}
      },
      "source": [
        "# Scalen naar waarde tussen 0 en 1\n",
        "scaler = preprocessing.MinMaxScaler()\n",
        "scaler.fit(X_train)\n",
        "X_train = scaler.transform(X_train)\n",
        "X_test = scaler.transform(X_test)"
      ],
      "execution_count": 0,
      "outputs": []
    },
    {
      "cell_type": "code",
      "metadata": {
        "id": "1-vZE-pgeuxh",
        "colab_type": "code",
        "outputId": "ade49726-cbd8-4920-d08b-e85ce7033ce3",
        "colab": {
          "base_uri": "https://localhost:8080/",
          "height": 284
        }
      },
      "source": [
        "plt.imshow(X_train[0].reshape((28, 28)), cmap='gray')"
      ],
      "execution_count": 71,
      "outputs": [
        {
          "output_type": "execute_result",
          "data": {
            "text/plain": [
              "<matplotlib.image.AxesImage at 0x7f10e698aa90>"
            ]
          },
          "metadata": {
            "tags": []
          },
          "execution_count": 71
        },
        {
          "output_type": "display_data",
          "data": {
            "image/png": "[encoded data removed]",
            "text/plain": [
              "<Figure size 432x288 with 1 Axes>"
            ]
          },
          "metadata": {
            "tags": []
          }
        }
      ]
    },
    {
      "cell_type": "code",
      "metadata": {
        "id": "998TcU5LjeWo",
        "colab_type": "code",
        "outputId": "0215d66d-ceb0-41c2-9d59-325474338610",
        "colab": {
          "base_uri": "https://localhost:8080/",
          "height": 298
        }
      },
      "source": [
        "# Verdeling van het aantal voorbeeld getallen\n",
        "sns.countplot(data=digits, x='label')"
      ],
      "execution_count": 0,
      "outputs": [
        {
          "output_type": "execute_result",
          "data": {
            "text/plain": [
              "<matplotlib.axes._subplots.AxesSubplot at 0x7f75c58f7550>"
            ]
          },
          "metadata": {
            "tags": []
          },
          "execution_count": 64
        },
        {
          "output_type": "display_data",
          "data": {
            "image/png": "[encoded data removed]",
            "text/plain": [
              "<Figure size 432x288 with 1 Axes>"
            ]
          },
          "metadata": {
            "tags": []
          }
        }
      ]
    },
    {
      "cell_type": "code",
      "metadata": {
        "id": "dYiyJNwMfgwW",
        "colab_type": "code",
        "outputId": "406310c2-7af1-4cef-9551-0becc3c5f302",
        "colab": {
          "base_uri": "https://localhost:8080/",
          "height": 288
        }
      },
      "source": [
        "# Trainen van logistic regression model\n",
        "# log_reg = LogisticRegression(C=100, multi_class='multinomial', solver='lbfgs', max_iter=1000, verbose=2, n_jobs=-1)\n",
        "# log_reg = log_reg.fit(X_train, y_train)\n",
        "\n",
        "# Beste resultaat zoeken met RandomizedSearch\n",
        "from scipy.stats import uniform\n",
        "paramters = { \n",
        "    'C': uniform(0.1, 20),\n",
        "}\n",
        "log_reg = RandomizedSearchCV(LogisticRegression(solver='lbfgs', multi_class='multinomial'), param_distributions=paramters, cv=5, n_jobs=-1, n_iter=20, scoring='f1_micro', verbose=2)\n",
        "log_reg = log_reg.fit(X_train, y_train)\n",
        "\n",
        "print('best score:', log_reg.best_score_)\n",
        "print('best_params:', log_reg.best_params_)\n",
        "best_model = log_reg.best_estimator_"
      ],
      "execution_count": 8,
      "outputs": [
        {
          "output_type": "stream",
          "text": [
            "Fitting 5 folds for each of 20 candidates, totalling 100 fits\n"
          ],
          "name": "stdout"
        },
        {
          "output_type": "stream",
          "text": [
            "[Parallel(n_jobs=-1)]: Using backend LokyBackend with 2 concurrent workers.\n",
            "[Parallel(n_jobs=-1)]: Done  37 tasks      | elapsed:   14.0s\n",
            "[Parallel(n_jobs=-1)]: Done 100 out of 100 | elapsed:   34.4s finished\n"
          ],
          "name": "stderr"
        },
        {
          "output_type": "stream",
          "text": [
            "best score: 0.8539999999999999\n",
            "best_params: {'C': 0.6141648347814054}\n"
          ],
          "name": "stdout"
        },
        {
          "output_type": "stream",
          "text": [
            "/usr/local/lib/python3.6/dist-packages/sklearn/linear_model/_logistic.py:940: ConvergenceWarning: lbfgs failed to converge (status=1):\n",
            "STOP: TOTAL NO. of ITERATIONS REACHED LIMIT.\n",
            "\n",
            "Increase the number of iterations (max_iter) or scale the data as shown in:\n",
            "    https://scikit-learn.org/stable/modules/preprocessing.html\n",
            "Please also refer to the documentation for alternative solver options:\n",
            "    https://scikit-learn.org/stable/modules/linear_model.html#logistic-regression\n",
            "  extra_warning_msg=_LOGISTIC_SOLVER_CONVERGENCE_MSG)\n"
          ],
          "name": "stderr"
        }
      ]
    },
    {
      "cell_type": "code",
      "metadata": {
        "id": "35h7xYi9g7DJ",
        "colab_type": "code",
        "colab": {}
      },
      "source": [
        "# Getrained model vergelijken met test set (test.csv)\n",
        "y_pred = best_model.predict(X_test)\n",
        "y_preds = best_model.predict_proba(X_test)"
      ],
      "execution_count": 0,
      "outputs": []
    },
    {
      "cell_type": "code",
      "metadata": {
        "id": "AerCI6kqgVpX",
        "colab_type": "code",
        "outputId": "ff8af052-34c8-414a-ca03-5f22900f3135",
        "colab": {
          "base_uri": "https://localhost:8080/",
          "height": 617
        }
      },
      "source": [
        "print('confussion matrix:')\n",
        "print(metrics.confusion_matrix(y_test, y_pred))\n",
        "print('classification report:')\n",
        "print(metrics.classification_report(y_test, y_pred))\n",
        "print('accuracy:', metrics.accuracy_score(y_test, y_pred))\n",
        "print('F1-score:', metrics.f1_score(y_test, y_pred, average='micro'))"
      ],
      "execution_count": 10,
      "outputs": [
        {
          "output_type": "stream",
          "text": [
            "confussion matrix:\n",
            "[[1120    0   15    9    1   17   14    3   14    2]\n",
            " [   0 1306    4    2    0   17    1    1   21    0]\n",
            " [   9   13  997   17   14   15   22   14   43   13]\n",
            " [   5   15   47 1086    2   38   10   12   26   17]\n",
            " [   1   15   12    1  986    1   24    7    9   84]\n",
            " [  15   14   13   77   22  828   27    9   49   22]\n",
            " [  25   11   19    3   16   11 1066    0   13    3]\n",
            " [   8   16   14    7   25    3    0 1119    4   72]\n",
            " [   7   52   26   45    5   39   11    2  958   29]\n",
            " [  10    9    9   19   55    9    2   62   11 1027]]\n",
            "classification report:\n",
            "              precision    recall  f1-score   support\n",
            "\n",
            "           0       0.93      0.94      0.94      1195\n",
            "           1       0.90      0.97      0.93      1352\n",
            "           2       0.86      0.86      0.86      1157\n",
            "           3       0.86      0.86      0.86      1258\n",
            "           4       0.88      0.86      0.87      1140\n",
            "           5       0.85      0.77      0.81      1076\n",
            "           6       0.91      0.91      0.91      1167\n",
            "           7       0.91      0.88      0.90      1268\n",
            "           8       0.83      0.82      0.83      1174\n",
            "           9       0.81      0.85      0.83      1213\n",
            "\n",
            "    accuracy                           0.87     12000\n",
            "   macro avg       0.87      0.87      0.87     12000\n",
            "weighted avg       0.87      0.87      0.87     12000\n",
            "\n",
            "accuracy: 0.8744166666666666\n",
            "F1-score: 0.8744166666666666\n"
          ],
          "name": "stdout"
        }
      ]
    },
    {
      "cell_type": "code",
      "metadata": {
        "id": "9LFbdl1DdAmt",
        "colab_type": "code",
        "outputId": "8013694e-fcdb-41d9-9a6a-e5cc73ff1367",
        "colab": {
          "base_uri": "https://localhost:8080/",
          "height": 133
        }
      },
      "source": [
        "# Beste resultaat zoeken met RandomizedSearch met One vs Rest\n",
        "from scipy.stats import uniform\n",
        "paramters = { \n",
        "    'C': uniform(0.1, 20),\n",
        "    'solver': ['newton-cg', 'lbfgs', 'liblinear', 'sag', 'saga']\n",
        "}\n",
        "log_reg_ovr = RandomizedSearchCV(LogisticRegression(solver='lbfgs', multi_class='ovr', max_iter=500), param_distributions=paramters, cv=5, n_jobs=-1, n_iter=20, scoring='f1_micro', verbose=2)\n",
        "log_reg_ovr = log_reg_ovr.fit(X_train, y_train)\n",
        "\n",
        "print('best score:', log_reg_ovr.best_score_)\n",
        "print('best_params:', log_reg_ovr.best_params_)\n",
        "best_model_ovr = log_reg_ovr.best_estimator_"
      ],
      "execution_count": 11,
      "outputs": [
        {
          "output_type": "stream",
          "text": [
            "Fitting 5 folds for each of 20 candidates, totalling 100 fits\n"
          ],
          "name": "stdout"
        },
        {
          "output_type": "stream",
          "text": [
            "[Parallel(n_jobs=-1)]: Using backend LokyBackend with 2 concurrent workers.\n",
            "[Parallel(n_jobs=-1)]: Done  37 tasks      | elapsed:  6.1min\n",
            "[Parallel(n_jobs=-1)]: Done 100 out of 100 | elapsed: 17.0min finished\n"
          ],
          "name": "stderr"
        },
        {
          "output_type": "stream",
          "text": [
            "best score: 0.8549999999999999\n",
            "best_params: {'C': 0.22694702262088465, 'solver': 'saga'}\n"
          ],
          "name": "stdout"
        }
      ]
    },
    {
      "cell_type": "code",
      "metadata": {
        "id": "EluVUomyEkt_",
        "colab_type": "code",
        "colab": {}
      },
      "source": [
        "# Getrained model vergelijken met test set (test.csv)\n",
        "y_pred = best_model_ovr.predict(X_test)\n",
        "y_preds = best_model_ovr.predict_proba(X_test)"
      ],
      "execution_count": 0,
      "outputs": []
    },
    {
      "cell_type": "code",
      "metadata": {
        "id": "uc9pjkLDEo3I",
        "colab_type": "code",
        "outputId": "279e5381-856c-4866-cc54-27a70106c392",
        "colab": {
          "base_uri": "https://localhost:8080/",
          "height": 617
        }
      },
      "source": [
        "print('confussion matrix:')\n",
        "print(metrics.confusion_matrix(y_test, y_pred))\n",
        "print('classification report:')\n",
        "print(metrics.classification_report(y_test, y_pred))\n",
        "print('accuracy:', metrics.accuracy_score(y_test, y_pred))\n",
        "print('F1-score:', metrics.f1_score(y_test, y_pred, average='micro'))"
      ],
      "execution_count": 15,
      "outputs": [
        {
          "output_type": "stream",
          "text": [
            "confussion matrix:\n",
            "[[1135    0    9    6    2   12   17    1   12    1]\n",
            " [   0 1313    7    1    0   11    1    1   18    0]\n",
            " [   9   14 1001   16   14    9   25   16   41   12]\n",
            " [   4   18   63 1066    2   36   12   14   25   18]\n",
            " [   2   19   10    1  990    2   18    5   13   80]\n",
            " [  23   15    8   84   26  811   32    8   39   30]\n",
            " [  22   11   13    1   12   10 1088    0    9    1]\n",
            " [  10   21   12    5   17    5    2 1121    4   71]\n",
            " [  10   70   13   43    6   37    8    1  963   23]\n",
            " [  14   13    8   22   64   10    1   61   13 1007]]\n",
            "classification report:\n",
            "              precision    recall  f1-score   support\n",
            "\n",
            "           0       0.92      0.95      0.94      1195\n",
            "           1       0.88      0.97      0.92      1352\n",
            "           2       0.88      0.87      0.87      1157\n",
            "           3       0.86      0.85      0.85      1258\n",
            "           4       0.87      0.87      0.87      1140\n",
            "           5       0.86      0.75      0.80      1076\n",
            "           6       0.90      0.93      0.92      1167\n",
            "           7       0.91      0.88      0.90      1268\n",
            "           8       0.85      0.82      0.83      1174\n",
            "           9       0.81      0.83      0.82      1213\n",
            "\n",
            "    accuracy                           0.87     12000\n",
            "   macro avg       0.87      0.87      0.87     12000\n",
            "weighted avg       0.87      0.87      0.87     12000\n",
            "\n",
            "accuracy: 0.8745833333333334\n",
            "F1-score: 0.8745833333333334\n"
          ],
          "name": "stdout"
        }
      ]
    },
    {
      "cell_type": "code",
      "metadata": {
        "id": "-qRQMF1EaVkO",
        "colab_type": "code",
        "colab": {}
      },
      "source": [
        "from sklearn.svm import SVC"
      ],
      "execution_count": 0,
      "outputs": []
    },
    {
      "cell_type": "code",
      "metadata": {
        "id": "tpzyVFV3a-ax",
        "colab_type": "code",
        "colab": {
          "base_uri": "https://localhost:8080/",
          "height": 36
        },
        "outputId": "e8970fa4-0d1e-44f5-ff59-7afa82424a74"
      },
      "source": [
        "# Support vector machine zonder kernel\n",
        "svmc = SVC(kernel='linear', verbose=2, C=0.1)\n",
        "svmc = svmc.fit(X_train, y_train)"
      ],
      "execution_count": 37,
      "outputs": [
        {
          "output_type": "stream",
          "text": [
            "[LibSVM]"
          ],
          "name": "stdout"
        }
      ]
    },
    {
      "cell_type": "code",
      "metadata": {
        "id": "NbsY7tjUbk_d",
        "colab_type": "code",
        "colab": {}
      },
      "source": [
        "y_pred = svmc.predict(X_test)"
      ],
      "execution_count": 0,
      "outputs": []
    },
    {
      "cell_type": "code",
      "metadata": {
        "id": "_Qj3Htn9cFoJ",
        "colab_type": "code",
        "colab": {
          "base_uri": "https://localhost:8080/",
          "height": 617
        },
        "outputId": "cc9e4095-770d-4c66-8a7e-83b0ef4fd051"
      },
      "source": [
        "print('classification report: \\n', metrics.classification_report(y_test, y_pred))\n",
        "print('confussion matrics: \\n', metrics.confusion_matrix(y_test, y_pred))\n",
        "print('accuracy: ', metrics.accuracy_score(y_test, y_pred))\n",
        "print('f1-score: ', metrics.f1_score(y_test, y_pred, average='micro'))"
      ],
      "execution_count": 39,
      "outputs": [
        {
          "output_type": "stream",
          "text": [
            "classification report: \n",
            "               precision    recall  f1-score   support\n",
            "\n",
            "           0       0.92      0.96      0.94      1195\n",
            "           1       0.89      0.98      0.94      1352\n",
            "           2       0.89      0.89      0.89      1157\n",
            "           3       0.87      0.86      0.86      1258\n",
            "           4       0.88      0.89      0.89      1140\n",
            "           5       0.86      0.80      0.83      1076\n",
            "           6       0.93      0.93      0.93      1167\n",
            "           7       0.92      0.91      0.92      1268\n",
            "           8       0.88      0.83      0.86      1174\n",
            "           9       0.87      0.87      0.87      1213\n",
            "\n",
            "    accuracy                           0.89     12000\n",
            "   macro avg       0.89      0.89      0.89     12000\n",
            "weighted avg       0.89      0.89      0.89     12000\n",
            "\n",
            "confussion matrics: \n",
            " [[1147    1   10    6    1    9    9    1    8    3]\n",
            " [   0 1326    3    3    1    7    0    2   10    0]\n",
            " [  13   19 1025   14   18   14   20   11   19    4]\n",
            " [  10   18   38 1078    2   40    7   12   41   12]\n",
            " [   8   14   19    1 1019    2    6    9    8   54]\n",
            " [  14   20    8   79   25  857   32    2   24   15]\n",
            " [  23   10   15    0   13   11 1083    0   12    0]\n",
            " [   7   11   13    7   27    3    0 1153    3   44]\n",
            " [  10   59   15   31   11   39   10    3  976   20]\n",
            " [  11    5   10   24   36    9    0   55    6 1057]]\n",
            "accuracy:  0.8934166666666666\n",
            "f1-score:  0.8934166666666667\n"
          ],
          "name": "stdout"
        }
      ]
    },
    {
      "cell_type": "code",
      "metadata": {
        "id": "Vof0C8sueiqJ",
        "colab_type": "code",
        "colab": {
          "base_uri": "https://localhost:8080/",
          "height": 36
        },
        "outputId": "736f0b12-c6c3-416e-fd3d-f5c037b2b07c"
      },
      "source": [
        "# Support vector machine met default kernel\n",
        "svmc_rbf = SVC(verbose=2, C=62, decision_function_shape='ovo')\n",
        "svmc_rbf = svmc_rbf.fit(X_train, y_train)"
      ],
      "execution_count": 56,
      "outputs": [
        {
          "output_type": "stream",
          "text": [
            "[LibSVM]"
          ],
          "name": "stdout"
        }
      ]
    },
    {
      "cell_type": "code",
      "metadata": {
        "id": "_CIatkq8eyVz",
        "colab_type": "code",
        "colab": {}
      },
      "source": [
        "y_pred = svmc_rbf.predict(X_test)"
      ],
      "execution_count": 0,
      "outputs": []
    },
    {
      "cell_type": "code",
      "metadata": {
        "id": "DQI1yaWfe1aK",
        "colab_type": "code",
        "colab": {
          "base_uri": "https://localhost:8080/",
          "height": 617
        },
        "outputId": "49d03f10-e12e-4331-f833-ac62b8eee0bd"
      },
      "source": [
        "print('classification report: \\n', metrics.classification_report(y_test, y_pred))\n",
        "print('confussion matrics: \\n', metrics.confusion_matrix(y_test, y_pred))\n",
        "print('accuracy: ', metrics.accuracy_score(y_test, y_pred))\n",
        "print('f1-score: ', metrics.f1_score(y_test, y_pred, average='micro'))"
      ],
      "execution_count": 58,
      "outputs": [
        {
          "output_type": "stream",
          "text": [
            "classification report: \n",
            "               precision    recall  f1-score   support\n",
            "\n",
            "           0       0.95      0.95      0.95      1195\n",
            "           1       0.95      0.99      0.97      1352\n",
            "           2       0.81      0.92      0.86      1157\n",
            "           3       0.90      0.87      0.88      1258\n",
            "           4       0.92      0.92      0.92      1140\n",
            "           5       0.93      0.86      0.89      1076\n",
            "           6       0.94      0.92      0.93      1167\n",
            "           7       0.95      0.91      0.93      1268\n",
            "           8       0.91      0.90      0.90      1174\n",
            "           9       0.90      0.89      0.89      1213\n",
            "\n",
            "    accuracy                           0.91     12000\n",
            "   macro avg       0.91      0.91      0.91     12000\n",
            "weighted avg       0.92      0.91      0.91     12000\n",
            "\n",
            "confussion matrics: \n",
            " [[1141    1   10    7    2    8   13    0   11    2]\n",
            " [   0 1332    4    4    4    1    1    0    4    2]\n",
            " [   9    7 1066    8   13    9   11   10   19    5]\n",
            " [   5   10   75 1090    2   20    8    8   34    6]\n",
            " [   3    6   20    0 1044    1    8    2    5   51]\n",
            " [   9    4   23   60   13  922   24    0   12    9]\n",
            " [  15    9   47    0    6    5 1079    0    6    0]\n",
            " [   3    8   44    4   17    1    0 1151    4   36]\n",
            " [   3   22   16   25   10   24    5    2 1053   14]\n",
            " [  10    6   19   19   29    5    0   35    7 1083]]\n",
            "accuracy:  0.9134166666666667\n",
            "f1-score:  0.9134166666666665\n"
          ],
          "name": "stdout"
        }
      ]
    },
    {
      "cell_type": "code",
      "metadata": {
        "id": "w9hzzkXFgVWv",
        "colab_type": "code",
        "colab": {
          "base_uri": "https://localhost:8080/",
          "height": 191
        },
        "outputId": "09e2be17-3d55-4bb7-ddb9-146d361de851"
      },
      "source": [
        "paramters = { \n",
        "    'C': uniform(0.1, 100),\n",
        "    'kernel': ['linear', 'rbf', 'sigmoid']\n",
        "}\n",
        "svc_randomized = RandomizedSearchCV(SVC(verbose=2), param_distributions=paramters, cv=5, n_jobs=-1, n_iter=20, scoring='f1_micro', verbose=2)\n",
        "svc_randomized = svc_randomized.fit(X_train, y_train)\n",
        "print('best_score:', svc_randomized.best_score_)\n",
        "print('best_classifier:', svc_randomized.best_estimator_)"
      ],
      "execution_count": 55,
      "outputs": [
        {
          "output_type": "stream",
          "text": [
            "Fitting 5 folds for each of 20 candidates, totalling 100 fits\n"
          ],
          "name": "stdout"
        },
        {
          "output_type": "stream",
          "text": [
            "[Parallel(n_jobs=-1)]: Using backend LokyBackend with 2 concurrent workers.\n",
            "[Parallel(n_jobs=-1)]: Done  37 tasks      | elapsed:   17.3s\n",
            "[Parallel(n_jobs=-1)]: Done 100 out of 100 | elapsed:   44.6s finished\n"
          ],
          "name": "stderr"
        },
        {
          "output_type": "stream",
          "text": [
            "[LibSVM]best_score: 0.908\n",
            "best_classifier: SVC(C=68.46680962324065, break_ties=False, cache_size=200, class_weight=None,\n",
            "    coef0=0.0, decision_function_shape='ovr', degree=3, gamma='scale',\n",
            "    kernel='rbf', max_iter=-1, probability=False, random_state=None,\n",
            "    shrinking=True, tol=0.001, verbose=2)\n"
          ],
          "name": "stdout"
        }
      ]
    },
    {
      "cell_type": "code",
      "metadata": {
        "id": "g4jgypLPhMnm",
        "colab_type": "code",
        "colab": {}
      },
      "source": [
        "y_pred = svc_randomized.predict(X_test)"
      ],
      "execution_count": 0,
      "outputs": []
    },
    {
      "cell_type": "code",
      "metadata": {
        "id": "jPM4UXBFhMzH",
        "colab_type": "code",
        "colab": {
          "base_uri": "https://localhost:8080/",
          "height": 617
        },
        "outputId": "0a7048c0-00cf-433e-f931-3e30f5abefed"
      },
      "source": [
        "print('classification report: \\n', metrics.classification_report(y_test, y_pred))\n",
        "print('confussion matrics: \\n', metrics.confusion_matrix(y_test, y_pred))\n",
        "print('accuracy: ', metrics.accuracy_score(y_test, y_pred))\n",
        "print('f1-score: ', metrics.f1_score(y_test, y_pred, average='micro'))"
      ],
      "execution_count": 54,
      "outputs": [
        {
          "output_type": "stream",
          "text": [
            "classification report: \n",
            "               precision    recall  f1-score   support\n",
            "\n",
            "           0       0.95      0.95      0.95      1195\n",
            "           1       0.95      0.99      0.97      1352\n",
            "           2       0.81      0.92      0.86      1157\n",
            "           3       0.90      0.87      0.88      1258\n",
            "           4       0.92      0.92      0.92      1140\n",
            "           5       0.93      0.86      0.89      1076\n",
            "           6       0.94      0.92      0.93      1167\n",
            "           7       0.95      0.91      0.93      1268\n",
            "           8       0.91      0.90      0.90      1174\n",
            "           9       0.90      0.89      0.89      1213\n",
            "\n",
            "    accuracy                           0.91     12000\n",
            "   macro avg       0.91      0.91      0.91     12000\n",
            "weighted avg       0.92      0.91      0.91     12000\n",
            "\n",
            "confussion matrics: \n",
            " [[1141    1   10    7    2    8   13    0   11    2]\n",
            " [   0 1332    4    4    4    1    1    0    4    2]\n",
            " [   9    7 1066    8   13    9   11   10   19    5]\n",
            " [   5   10   75 1090    2   20    8    8   34    6]\n",
            " [   3    6   20    0 1044    1    8    2    5   51]\n",
            " [   9    4   23   60   13  922   24    0   12    9]\n",
            " [  15    9   47    0    6    5 1079    0    6    0]\n",
            " [   3    8   44    4   17    1    0 1151    4   36]\n",
            " [   3   22   16   25   10   24    5    2 1053   14]\n",
            " [  10    6   19   19   29    5    0   35    7 1083]]\n",
            "accuracy:  0.9134166666666667\n",
            "f1-score:  0.9134166666666665\n"
          ],
          "name": "stdout"
        }
      ]
    },
    {
      "cell_type": "code",
      "metadata": {
        "id": "r0fJ4EzYiTY0",
        "colab_type": "code",
        "colab": {
          "base_uri": "https://localhost:8080/",
          "height": 191
        },
        "outputId": "d01ddcb6-3a47-467b-f052-a6d95c644268"
      },
      "source": [
        "paramters = { \n",
        "    'C': uniform(0.1, 100),\n",
        "    'gamma': uniform(0.01, 1),\n",
        "    'decision_function_shape': ['ovr', 'ovo']\n",
        "}\n",
        "svc_randomized = RandomizedSearchCV(SVC(verbose=2), param_distributions=paramters, cv=5, n_jobs=-1, n_iter=20, scoring='f1_micro', verbose=2)\n",
        "svc_randomized = svc_randomized.fit(X_train, y_train)\n",
        "print('best_score:', svc_randomized.best_score_)\n",
        "print('best_classifier:', svc_randomized.best_estimator_)"
      ],
      "execution_count": 72,
      "outputs": [
        {
          "output_type": "stream",
          "text": [
            "Fitting 5 folds for each of 20 candidates, totalling 100 fits\n"
          ],
          "name": "stdout"
        },
        {
          "output_type": "stream",
          "text": [
            "[Parallel(n_jobs=-1)]: Using backend LokyBackend with 2 concurrent workers.\n",
            "[Parallel(n_jobs=-1)]: Done  37 tasks      | elapsed:  2.1min\n",
            "[Parallel(n_jobs=-1)]: Done 100 out of 100 | elapsed:  5.4min finished\n"
          ],
          "name": "stderr"
        },
        {
          "output_type": "stream",
          "text": [
            "[LibSVM]best_score: 0.9425000000000001\n",
            "best_classifier: SVC(C=90.41444279658784, break_ties=False, cache_size=200, class_weight=None,\n",
            "    coef0=0.0, decision_function_shape='ovo', degree=3,\n",
            "    gamma=0.02712320475976792, kernel='rbf', max_iter=-1, probability=False,\n",
            "    random_state=None, shrinking=True, tol=0.001, verbose=2)\n"
          ],
          "name": "stdout"
        }
      ]
    },
    {
      "cell_type": "code",
      "metadata": {
        "id": "HtWRutTWigN6",
        "colab_type": "code",
        "colab": {}
      },
      "source": [
        "y_pred = svc_randomized.predict(X_test)"
      ],
      "execution_count": 0,
      "outputs": []
    },
    {
      "cell_type": "code",
      "metadata": {
        "id": "_PKsmm61ih8M",
        "colab_type": "code",
        "colab": {
          "base_uri": "https://localhost:8080/",
          "height": 617
        },
        "outputId": "8aba2f50-fa78-4f77-aa75-b5477a2eca14"
      },
      "source": [
        "print('classification report: \\n', metrics.classification_report(y_test, y_pred))\n",
        "print('confussion matrics: \\n', metrics.confusion_matrix(y_test, y_pred))\n",
        "print('accuracy: ', metrics.accuracy_score(y_test, y_pred))\n",
        "print('f1-score: ', metrics.f1_score(y_test, y_pred, average='micro'))"
      ],
      "execution_count": 74,
      "outputs": [
        {
          "output_type": "stream",
          "text": [
            "classification report: \n",
            "               precision    recall  f1-score   support\n",
            "\n",
            "           0       0.97      0.97      0.97      1195\n",
            "           1       0.97      0.99      0.98      1352\n",
            "           2       0.87      0.94      0.91      1157\n",
            "           3       0.93      0.92      0.93      1258\n",
            "           4       0.95      0.95      0.95      1140\n",
            "           5       0.94      0.93      0.93      1076\n",
            "           6       0.96      0.96      0.96      1167\n",
            "           7       0.96      0.93      0.95      1268\n",
            "           8       0.93      0.92      0.93      1174\n",
            "           9       0.94      0.92      0.93      1213\n",
            "\n",
            "    accuracy                           0.94     12000\n",
            "   macro avg       0.94      0.94      0.94     12000\n",
            "weighted avg       0.94      0.94      0.94     12000\n",
            "\n",
            "confussion matrics: \n",
            " [[1156    0    8    2    0    7   12    0   10    0]\n",
            " [   0 1337    4    3    3    1    1    0    3    0]\n",
            " [   6    1 1089   10    9    3    6   12   18    3]\n",
            " [   1    8   36 1160    1   16    5    6   20    5]\n",
            " [   2    4    9    0 1081    0    7    1    4   32]\n",
            " [   5    3    9   35    7  996   13    0    6    2]\n",
            " [   5    4   18    0    9    6 1120    0    5    0]\n",
            " [   2    4   40    2    9    0    0 1184    3   24]\n",
            " [   5   14   15   17    4   28    2    1 1083    5]\n",
            " [   7    5   18   15   15    6    0   26    8 1113]]\n",
            "accuracy:  0.94325\n",
            "f1-score:  0.94325\n"
          ],
          "name": "stdout"
        }
      ]
    },
    {
      "cell_type": "markdown",
      "metadata": {
        "id": "nEWyREofYtXf",
        "colab_type": "text"
      },
      "source": [
        "### **Bevindingen**\n",
        "#### **Normaliseren**\n",
        "Normaliseren is opzich niet nodig aangezien we hier niet te maken hebben met een normaal verdeelde data. Het zijn gewoon pixelwaarden in RGB.  \n",
        "Men kan wel gebruik maken van de MinMaxScaler om die RGB waarden om te schalen naar een getal tussen 0 en 1. Opzich zou dit geen verschil mogen maken voor het resultaat. \n",
        "\n",
        "#### **Logistic regression**\n",
        "Aan de hand van `RandomizedSearch` een logistic regression model trainen duurt ongeveer 15 minuten op de volledige dataset. Dit geeft een **F1-score** van **0.86** idem voor de **accuracy**.   \n",
        "De **recall** doet het in de meeste gevallen wel goed. Opvallend is dat de recall van **5** slechts **45%** is. Het model verward 5 vaak met 8. Ook de **precision** is over het algemeen vrij goed. Hierbij ook opvallend de precision van **8** is slechts **55%**. Hierbij zien we dat 8 vaak geclassificeerd wordt als een 5. \n",
        "\n",
        "##### **One vs Rest**  \n",
        "Dit model duurt aanzienlijk langer om te trainen dan een **Multinomial** model. Dit komt doordat een **OvR** model voor elke klasse een classifier trained in vergelijking met elke andere klasse. Dit duurt aanzienlijk langer omdat er 10 verschillende classifiers getrained moeten worden. Op een kleinere dataset van 1000 training samples behaalt dit model een **F1-score** van **87%** exact hetzelfde als een **Multinomial** model.\n",
        "\n",
        "#### **Support Vector Machine**\n",
        "De **F1-score** van een linear One vs Rest SVC model ligt met een niet geoptimalizeerde C waarde al iets hoger dan het beste model van **Logistic Regression** -> 89%.  \n",
        "Als we dan de **rbf** kernel gebruiken  met een geoptimalizeerde C-waarde zien we dat de **F1-score** nog hoger ligt op **91%**. Als we hier ook de **gamma** waarde optimaliseren behalen we een **F1-score** van **94** op een train set van 2000 samples.  \n",
        "Opvallend is dat in tegenstelling tot het **Logistic Regression** model heeft **SVM** geen last van lage **recall** of **precision** bij een bepaald getal.\n",
        "\n",
        "##### **OvO vs OvR**\n",
        "Door de kleine train set is er niet echt een merkbaar verschil in tijd die nodig is een model met **OvO** of **OvR** te trainen. Als we `RandomizedSearch` toepassen zien we wel dat een model getrained met **OvO** het beste scoort. "
      ]
    }
  ]
}